{
 "cells": [
  {
   "cell_type": "code",
   "execution_count": 9,
   "metadata": {},
   "outputs": [],
   "source": [
    "# import libraries\n",
    "import time\n",
    "import os\n",
    "import pandas as pd\n",
    "import numpy as np\n",
    "from pyspark import SparkContext\n",
    "from pyspark.ml.recommendation import ALS\n",
    "from pyspark.ml.feature import StringIndexer\n",
    "from pyspark.sql import SparkSession, Row\n",
    "from pyspark.sql.functions import col\n",
    "from pyspark.sql.types import StructType, StructField, IntegerType, StringType\n",
    "from pyspark.ml.evaluation import RegressionEvaluator\n",
    "from pyspark.sql import functions as F\n",
    "from pyspark.sql.functions import explode\n",
    "import matplotlib.pyplot as plt"
   ]
  },
  {
   "cell_type": "markdown",
   "metadata": {},
   "source": [
    "# Start up spark cluster"
   ]
  },
  {
   "cell_type": "code",
   "execution_count": 10,
   "metadata": {},
   "outputs": [],
   "source": [
    "appName=\"Collaborative Filtering with PySpark\"\n",
    "# initialize the spark session\n",
    "spark = SparkSession.builder\\\n",
    "    .appName(appName)\\\n",
    "    .config('spark.driver.memory', '15g')\\\n",
    "    .getOrCreate()\n",
    "# get sparkcontext from the sparksession\n",
    "sc = spark.sparkContext"
   ]
  },
  {
   "cell_type": "markdown",
   "metadata": {},
   "source": [
    "# Load in Data"
   ]
  },
  {
   "cell_type": "code",
   "execution_count": 11,
   "metadata": {},
   "outputs": [],
   "source": [
    "def load_dataset(path):\n",
    "    #define schema\n",
    "    schema = StructType([\n",
    "        StructField(\"item\", StringType(), True),\n",
    "        StructField(\"user\", StringType(), True),\n",
    "        StructField(\"rating\", StringType(), True),\n",
    "        StructField(\"timestamp\", IntegerType(), True)])\n",
    "\n",
    "    df = spark.read.csv(path ,header=False,schema=schema)\n",
    "    df = df.withColumn(\"rating\", df[\"rating\"].cast(IntegerType()))\n",
    "    \n",
    "    #provide index values for item and user to convert them into integers\n",
    "    stringIndexer = StringIndexer(inputCols=[\"item\",\"user\"], outputCols=[\"itemIndex\",\"userIndex\"])\n",
    "    model = stringIndexer.fit(df)\n",
    "    df = model.transform(df)\n",
    "    \n",
    "    #df = df.withColumn(\"userIndex\", df[\"userIndex\"].cast(IntegerType()))\n",
    "    \n",
    "    return df"
   ]
  },
  {
   "cell_type": "markdown",
   "metadata": {},
   "source": [
    "# Define ALS object"
   ]
  },
  {
   "cell_type": "code",
   "execution_count": 12,
   "metadata": {},
   "outputs": [],
   "source": [
    "als = ALS(maxIter=15, \n",
    "          implicitPrefs=False,\n",
    "          regParam=0.25,\n",
    "          userCol=\"userIndex\", \n",
    "          itemCol=\"itemIndex\", \n",
    "          ratingCol=\"rating\",\n",
    "          coldStartStrategy=\"drop\")"
   ]
  },
  {
   "cell_type": "markdown",
   "metadata": {},
   "source": [
    "## Load in data and train model"
   ]
  },
  {
   "cell_type": "code",
   "execution_count": 8,
   "metadata": {},
   "outputs": [],
   "source": [
    "fname = r'Software.csv'\n",
    "#fname = r'Books.csv'\n",
    "df = load_dataset(r'./ratings_data/' + fname)\n",
    "test_fraction = .35\n",
    "training, test = df.randomSplit([1-test_fraction, test_fraction])\n",
    "\n",
    "model = als.fit(training)"
   ]
  },
  {
   "cell_type": "code",
   "execution_count": 13,
   "metadata": {},
   "outputs": [],
   "source": [
    "item_df = df.groupby(\"itemIndex\")\\\n",
    "   .agg(F.min(\"item\"))\\\n",
    "   .withColumnRenamed('min(item)', 'item')\n",
    "\n",
    "\n",
    "item_df = item_df.withColumn(\"itemIndex\", item_df[\"itemIndex\"].cast(IntegerType()))"
   ]
  },
  {
   "cell_type": "code",
   "execution_count": 16,
   "metadata": {},
   "outputs": [],
   "source": [
    "meta_df = pd.read_csv(f'./meta_data/meta_{fname}').rename(columns={'asin':'item'})"
   ]
  },
  {
   "cell_type": "code",
   "execution_count": 17,
   "metadata": {},
   "outputs": [],
   "source": [
    "# display top n recommended artists for a user\n",
    "def recommendedItems(userIndex, n):\n",
    "    test = model.recommendForAllUsers(n)\\\n",
    "        .filter(col('userIndex')==userIndex)\\\n",
    "        .select([\"recommendations.itemIndex\",\"recommendations.rating\"])\\\n",
    "        .withColumn(\"rec_exp\", explode(\"itemIndex\"))\\\n",
    "        .select(col('rec_exp'))\\\n",
    "        .withColumnRenamed('rec_exp', 'itemIndex')\n",
    "        \n",
    "    return test\n",
    "\n",
    "# recs = recommendedItems(9386, n=6)\n",
    "# recs.show()"
   ]
  },
  {
   "cell_type": "code",
   "execution_count": 18,
   "metadata": {},
   "outputs": [],
   "source": [
    "def print_recs(recs_df):\n",
    "    print('Recommendations:')\n",
    "    print('-'*16, end='\\n\\n')\n",
    "    for i, row in recs_df.iterrows():\n",
    "        print(f' {i+1}. {row.title}')\n",
    "        print(' '*5, 'https://www.amazon.com/dp/{}'.format(row['item']))\n"
   ]
  },
  {
   "cell_type": "markdown",
   "metadata": {},
   "source": [
    "## Print out n recommendations for user"
   ]
  },
  {
   "cell_type": "code",
   "execution_count": 19,
   "metadata": {},
   "outputs": [
    {
     "name": "stdout",
     "output_type": "stream",
     "text": [
      "Recommendations:\n",
      "----------------\n",
      "\n",
      " 1. AVG Internet Security 2015 + AVG Pc Tuneup&reg; 1year 1pc 1user Download\n",
      "      https://www.amazon.com/dp/B00T1XOTKE\n",
      " 2. Dantz Retrospect 7 Small Business Server Standard\n",
      "      https://www.amazon.com/dp/B0007KI7IK\n",
      " 3. Ubuntu 8.04 [OLD VERSION]\n",
      "      https://www.amazon.com/dp/B0019KKM4O\n",
      " 4. Symantec Norton AntiVirus 2009 CD 1-User\n",
      "      https://www.amazon.com/dp/B0026NR4NU\n",
      " 5. Oscar the Balloonist Dives into the Lake\n",
      "      https://www.amazon.com/dp/B00005U2QU\n",
      " 6. PhotomatixPro 3.1\n",
      "      https://www.amazon.com/dp/3772396585\n"
     ]
    }
   ],
   "source": [
    "def get_recommendation(userID, n=6):\n",
    "    recs = recommendedItems(9386, n=6)\n",
    "    nrecommendations_df = recs.join(item_df, on='itemIndex').toPandas()\n",
    "    recs_df = nrecommendations_df.merge(meta_df)\n",
    "    print_recs(recs_df)\n",
    "    \n",
    "get_recommendation(9386)"
   ]
  },
  {
   "cell_type": "code",
   "execution_count": null,
   "metadata": {},
   "outputs": [],
   "source": []
  },
  {
   "cell_type": "code",
   "execution_count": null,
   "metadata": {},
   "outputs": [],
   "source": []
  },
  {
   "cell_type": "code",
   "execution_count": null,
   "metadata": {},
   "outputs": [],
   "source": []
  },
  {
   "cell_type": "markdown",
   "metadata": {},
   "source": [
    "### Checking to see what items user rated"
   ]
  },
  {
   "cell_type": "code",
   "execution_count": 20,
   "metadata": {},
   "outputs": [
    {
     "name": "stdout",
     "output_type": "stream",
     "text": [
      "+---------+---------+------+\n",
      "|userIndex|itemIndex|rating|\n",
      "+---------+---------+------+\n",
      "|9386.0   |1879.0   |5     |\n",
      "|9386.0   |3685.0   |5     |\n",
      "|9386.0   |4415.0   |3     |\n",
      "+---------+---------+------+\n",
      "\n"
     ]
    }
   ],
   "source": [
    "def topLikes(dataframe, userIndex, n):\n",
    "    df = dataframe.filter(dataframe.userIndex==userIndex)\\\n",
    "        .sort(dataframe.rating.desc())\\\n",
    "        .select(dataframe.userIndex,dataframe.itemIndex,dataframe.rating)\\\n",
    "        .limit(n)\n",
    "    return df\n",
    "# display top liked items for a user\n",
    "topLikes(df, 9386, 10).show(truncate=False)"
   ]
  }
 ],
 "metadata": {
  "kernelspec": {
   "display_name": "Python 3",
   "language": "python",
   "name": "python3"
  },
  "language_info": {
   "codemirror_mode": {
    "name": "ipython",
    "version": 3
   },
   "file_extension": ".py",
   "mimetype": "text/x-python",
   "name": "python",
   "nbconvert_exporter": "python",
   "pygments_lexer": "ipython3",
   "version": "3.8.3"
  }
 },
 "nbformat": 4,
 "nbformat_minor": 4
}
