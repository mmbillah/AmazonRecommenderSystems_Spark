{
 "cells": [
  {
   "cell_type": "code",
   "execution_count": 1,
   "metadata": {},
   "outputs": [],
   "source": [
    "# import libraries\n",
    "from pyspark import SparkContext\n",
    "from pyspark.ml.recommendation import ALS\n",
    "from pyspark.ml.feature import StringIndexer\n",
    "from pyspark.sql import SparkSession, Row\n",
    "from pyspark.sql.functions import col\n",
    "from pyspark.sql.types import StructType, StructField, IntegerType, StringType\n",
    "appName=\"Collaborative Filtering with PySpark\"\n",
    "# initialize the spark session\n",
    "spark = SparkSession.builder.appName(appName).getOrCreate()\n",
    "# get sparkcontext from the sparksession\n",
    "sc = spark.sparkContext"
   ]
  },
  {
   "cell_type": "code",
   "execution_count": 17,
   "metadata": {},
   "outputs": [],
   "source": [
    "import numpy as np # linear algebra\n",
    "import pandas as pd # data processing, CSV file I/O (e.g. pd.read_csv)\n",
    "from surprise import Dataset, Reader, KNNWithMeans, SVD\n",
    "from surprise.model_selection import GridSearchCV\n",
    "import time"
   ]
  },
  {
   "cell_type": "code",
   "execution_count": 2,
   "metadata": {},
   "outputs": [
    {
     "name": "stdout",
     "output_type": "stream",
     "text": [
      "root\n",
      " |-- item: string (nullable = true)\n",
      " |-- user: string (nullable = true)\n",
      " |-- rating: string (nullable = true)\n",
      " |-- timestamp: integer (nullable = true)\n",
      "\n",
      "+----------+--------------+------+----------+\n",
      "|      item|          user|rating| timestamp|\n",
      "+----------+--------------+------+----------+\n",
      "|B001GXRQW0| APV13CM0919JD|     1|1229644800|\n",
      "|B001GXRQW0|A3G8U1G1V082SN|     5|1229472000|\n",
      "|B001GXRQW0| A11T2Q0EVTUWP|     5|1229472000|\n",
      "|B001GXRQW0| A9YKGBH3SV22C|     5|1229472000|\n",
      "|B001GXRQW0|A34WZIHVF3OKOL|     1|1229472000|\n",
      "+----------+--------------+------+----------+\n",
      "only showing top 5 rows\n",
      "\n",
      "+----------+--------------+------+----------+---------+---------+\n",
      "|      item|          user|rating| timestamp|itemIndex|userIndex|\n",
      "+----------+--------------+------+----------+---------+---------+\n",
      "|B001GXRQW0| APV13CM0919JD|     1|1229644800|     39.0| 120184.0|\n",
      "|B001GXRQW0|A3G8U1G1V082SN|     5|1229472000|     39.0|  87652.0|\n",
      "|B001GXRQW0| A11T2Q0EVTUWP|     5|1229472000|     39.0|  13165.0|\n",
      "|B001GXRQW0| A9YKGBH3SV22C|     5|1229472000|     39.0| 106567.0|\n",
      "|B001GXRQW0|A34WZIHVF3OKOL|     1|1229472000|     39.0|  77751.0|\n",
      "+----------+--------------+------+----------+---------+---------+\n",
      "only showing top 5 rows\n",
      "\n"
     ]
    }
   ],
   "source": [
    "#define schema\n",
    "schema = StructType([\n",
    "    StructField(\"item\", StringType(), True),\n",
    "    StructField(\"user\", StringType(), True),\n",
    "    StructField(\"rating\", StringType(), True),\n",
    "    StructField(\"timestamp\", IntegerType(), True)])\n",
    "#read the file as a dataframe\n",
    "df = spark.read.csv(\"Gift_Cards.csv\",header=False,schema=schema)\n",
    "#print the schema\n",
    "df.printSchema()\n",
    "#show the dataframe header\n",
    "#df.show(n=5)\n",
    "#number of rows\n",
    "df.count()\n",
    "#convert rating colum from string to integer\n",
    "df = df.withColumn(\"rating\", df[\"rating\"].cast(IntegerType()))\n",
    "df.show(n=5)\n",
    "#provide index values for item and user to convert them into integers\n",
    "stringIndexer = StringIndexer(inputCols=[\"item\",\"user\"], outputCols=[\"itemIndex\",\"userIndex\"])\n",
    "model = stringIndexer.fit(df)\n",
    "df_indexed = model.transform(df)\n",
    "df_indexed.show(n=5)"
   ]
  },
  {
   "cell_type": "code",
   "execution_count": 9,
   "metadata": {},
   "outputs": [
    {
     "data": {
      "text/html": [
       "<div>\n",
       "<style scoped>\n",
       "    .dataframe tbody tr th:only-of-type {\n",
       "        vertical-align: middle;\n",
       "    }\n",
       "\n",
       "    .dataframe tbody tr th {\n",
       "        vertical-align: top;\n",
       "    }\n",
       "\n",
       "    .dataframe thead th {\n",
       "        text-align: right;\n",
       "    }\n",
       "</style>\n",
       "<table border=\"1\" class=\"dataframe\">\n",
       "  <thead>\n",
       "    <tr style=\"text-align: right;\">\n",
       "      <th></th>\n",
       "      <th>item</th>\n",
       "      <th>user</th>\n",
       "      <th>rating</th>\n",
       "    </tr>\n",
       "  </thead>\n",
       "  <tbody>\n",
       "    <tr>\n",
       "      <th>0</th>\n",
       "      <td>B001GXRQW0</td>\n",
       "      <td>APV13CM0919JD</td>\n",
       "      <td>1</td>\n",
       "    </tr>\n",
       "    <tr>\n",
       "      <th>1</th>\n",
       "      <td>B001GXRQW0</td>\n",
       "      <td>A3G8U1G1V082SN</td>\n",
       "      <td>5</td>\n",
       "    </tr>\n",
       "    <tr>\n",
       "      <th>2</th>\n",
       "      <td>B001GXRQW0</td>\n",
       "      <td>A11T2Q0EVTUWP</td>\n",
       "      <td>5</td>\n",
       "    </tr>\n",
       "    <tr>\n",
       "      <th>3</th>\n",
       "      <td>B001GXRQW0</td>\n",
       "      <td>A9YKGBH3SV22C</td>\n",
       "      <td>5</td>\n",
       "    </tr>\n",
       "    <tr>\n",
       "      <th>4</th>\n",
       "      <td>B001GXRQW0</td>\n",
       "      <td>A34WZIHVF3OKOL</td>\n",
       "      <td>1</td>\n",
       "    </tr>\n",
       "  </tbody>\n",
       "</table>\n",
       "</div>"
      ],
      "text/plain": [
       "         item            user  rating\n",
       "0  B001GXRQW0   APV13CM0919JD       1\n",
       "1  B001GXRQW0  A3G8U1G1V082SN       5\n",
       "2  B001GXRQW0   A11T2Q0EVTUWP       5\n",
       "3  B001GXRQW0   A9YKGBH3SV22C       5\n",
       "4  B001GXRQW0  A34WZIHVF3OKOL       1"
      ]
     },
     "execution_count": 9,
     "metadata": {},
     "output_type": "execute_result"
    }
   ],
   "source": [
    "#convert the indexed spark dataframe to pandas dataframe\n",
    "pandas_df = df.toPandas()\n",
    "del pandas_df[\"timestamp\"]\n",
    "pandas_df.head()"
   ]
  },
  {
   "cell_type": "code",
   "execution_count": 12,
   "metadata": {},
   "outputs": [],
   "source": [
    "# create a reader object to parse the dataset in the format appropriate for Surprise\n",
    "reader = Reader(rating_scale=(1, 5))\n",
    "# load the dataframe with reader as Surprise dataset object\n",
    "data = Dataset.load_from_df(pandas_df, reader)"
   ]
  },
  {
   "cell_type": "code",
   "execution_count": 13,
   "metadata": {},
   "outputs": [],
   "source": [
    "# To use user-based cosine similarity\n",
    "sim_options_user = {\n",
    "    \"name\": \"cosine\",\n",
    "    \"user_based\": True,  # Compute  similarities between users\n",
    "}\n",
    "# To use item-based cosine similarity\n",
    "sim_options_item = {\n",
    "    \"name\": \"cosine\",\n",
    "    \"user_based\": False,  # Compute  similarities between items\n",
    "}"
   ]
  },
  {
   "cell_type": "code",
   "execution_count": 14,
   "metadata": {},
   "outputs": [
    {
     "name": "stdout",
     "output_type": "stream",
     "text": [
      "Computing the cosine similarity matrix...\n",
      "Done computing similarity matrix.\n"
     ]
    },
    {
     "data": {
      "text/plain": [
       "<surprise.prediction_algorithms.knns.KNNWithMeans at 0x7faa9f2d8a60>"
      ]
     },
     "execution_count": 14,
     "metadata": {},
     "output_type": "execute_result"
    }
   ],
   "source": [
    "#choose centered KNN as the algorithm for finding similar users\n",
    "algo = KNNWithMeans(sim_options=sim_options_user)\n",
    "#build the training set\n",
    "trainingSet = data.build_full_trainset()\n",
    "#fit the training set into the model\n",
    "algo.fit(trainingSet)"
   ]
  },
  {
   "cell_type": "code",
   "execution_count": 15,
   "metadata": {},
   "outputs": [
    {
     "name": "stdout",
     "output_type": "stream",
     "text": [
      "Computing the cosine similarity matrix...\n",
      "Done computing similarity matrix.\n",
      "Computing the cosine similarity matrix...\n",
      "Done computing similarity matrix.\n",
      "Computing the cosine similarity matrix...\n",
      "Done computing similarity matrix.\n",
      "Computing the cosine similarity matrix...\n",
      "Done computing similarity matrix.\n",
      "Computing the cosine similarity matrix...\n",
      "Done computing similarity matrix.\n",
      "0.9492619721671044\n",
      "{'sim_options': {'name': 'cosine', 'min_support': 5, 'user_based': True}}\n"
     ]
    }
   ],
   "source": [
    "#options for grid search\n",
    "sim_options_gs = {\n",
    "    \"name\": [\"cosine\"],\n",
    "    \"min_support\": [5],\n",
    "    \"user_based\": [True],\n",
    "}\n",
    "\n",
    "param_grid = {\"sim_options\": sim_options_gs}\n",
    "gs = GridSearchCV(KNNWithMeans, param_grid, measures=[\"rmse\"], cv=5)\n",
    "gs.fit(data)\n",
    "\n",
    "print(gs.best_score[\"rmse\"])\n",
    "print(gs.best_params[\"rmse\"])"
   ]
  },
  {
   "cell_type": "code",
   "execution_count": 18,
   "metadata": {},
   "outputs": [
    {
     "name": "stdout",
     "output_type": "stream",
     "text": [
      "0.9286156303881361\n",
      "{'n_epochs': 10, 'lr_all': 0.01, 'reg_all': 0.5}\n",
      "--- 23.315891981124878 seconds ---\n"
     ]
    }
   ],
   "source": [
    "start_time = time.time()\n",
    "#main()\n",
    "#for matrix factorization\n",
    "param_grid = {\n",
    "    \"n_epochs\": [10],\n",
    "    \"lr_all\": [0.01],\n",
    "    \"reg_all\": [0.5]\n",
    "}\n",
    "\n",
    "gs2 = GridSearchCV(SVD, param_grid, measures=[\"rmse\"], cv=5)\n",
    "\n",
    "gs2.fit(data)\n",
    "\n",
    "print(gs2.best_score[\"rmse\"])\n",
    "print(gs2.best_params[\"rmse\"])\n",
    "print(\"--- %s seconds ---\" % (time.time() - start_time))"
   ]
  },
  {
   "cell_type": "code",
   "execution_count": null,
   "metadata": {},
   "outputs": [],
   "source": []
  }
 ],
 "metadata": {
  "kernelspec": {
   "display_name": "Python 3",
   "language": "python",
   "name": "python3"
  },
  "language_info": {
   "codemirror_mode": {
    "name": "ipython",
    "version": 3
   },
   "file_extension": ".py",
   "mimetype": "text/x-python",
   "name": "python",
   "nbconvert_exporter": "python",
   "pygments_lexer": "ipython3",
   "version": "3.8.3"
  }
 },
 "nbformat": 4,
 "nbformat_minor": 4
}
