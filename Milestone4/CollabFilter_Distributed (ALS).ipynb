{
 "cells": [
  {
   "cell_type": "code",
   "execution_count": 1,
   "metadata": {},
   "outputs": [],
   "source": [
    "# import libraries\n",
    "import time\n",
    "from pyspark import SparkContext\n",
    "from pyspark.ml.recommendation import ALS\n",
    "from pyspark.ml.feature import StringIndexer\n",
    "from pyspark.sql import SparkSession, Row\n",
    "from pyspark.sql.functions import col\n",
    "from pyspark.sql.types import StructType, StructField, IntegerType, StringType\n",
    "appName=\"Collaborative Filtering with PySpark\"\n",
    "# initialize the spark session\n",
    "spark = SparkSession.builder.appName(appName).getOrCreate()\n",
    "# get sparkcontext from the sparksession\n",
    "sc = spark.sparkContext"
   ]
  },
  {
   "cell_type": "code",
   "execution_count": 2,
   "metadata": {},
   "outputs": [
    {
     "name": "stdout",
     "output_type": "stream",
     "text": [
      "root\n",
      " |-- item: string (nullable = true)\n",
      " |-- user: string (nullable = true)\n",
      " |-- rating: string (nullable = true)\n",
      " |-- timestamp: integer (nullable = true)\n",
      "\n",
      "+----------+--------------+------+----------+\n",
      "|      item|          user|rating| timestamp|\n",
      "+----------+--------------+------+----------+\n",
      "|B001GXRQW0| APV13CM0919JD|     1|1229644800|\n",
      "|B001GXRQW0|A3G8U1G1V082SN|     5|1229472000|\n",
      "|B001GXRQW0| A11T2Q0EVTUWP|     5|1229472000|\n",
      "|B001GXRQW0| A9YKGBH3SV22C|     5|1229472000|\n",
      "|B001GXRQW0|A34WZIHVF3OKOL|     1|1229472000|\n",
      "+----------+--------------+------+----------+\n",
      "only showing top 5 rows\n",
      "\n",
      "+----------+--------------+------+----------+---------+---------+\n",
      "|      item|          user|rating| timestamp|itemIndex|userIndex|\n",
      "+----------+--------------+------+----------+---------+---------+\n",
      "|B001GXRQW0| APV13CM0919JD|     1|1229644800|     39.0| 120184.0|\n",
      "|B001GXRQW0|A3G8U1G1V082SN|     5|1229472000|     39.0|  87652.0|\n",
      "|B001GXRQW0| A11T2Q0EVTUWP|     5|1229472000|     39.0|  13165.0|\n",
      "|B001GXRQW0| A9YKGBH3SV22C|     5|1229472000|     39.0| 106567.0|\n",
      "|B001GXRQW0|A34WZIHVF3OKOL|     1|1229472000|     39.0|  77751.0|\n",
      "+----------+--------------+------+----------+---------+---------+\n",
      "only showing top 5 rows\n",
      "\n"
     ]
    }
   ],
   "source": [
    "#define schema\n",
    "schema = StructType([\n",
    "    StructField(\"item\", StringType(), True),\n",
    "    StructField(\"user\", StringType(), True),\n",
    "    StructField(\"rating\", StringType(), True),\n",
    "    StructField(\"timestamp\", IntegerType(), True)])\n",
    "#read the file as a dataframe\n",
    "df = spark.read.csv(\"Gift_Cards.csv\",header=False,schema=schema)\n",
    "#print the schema\n",
    "df.printSchema()\n",
    "#show the dataframe header\n",
    "#df.show(n=5)\n",
    "#number of rows\n",
    "df.count()\n",
    "#convert rating colum from string to integer\n",
    "df = df.withColumn(\"rating\", df[\"rating\"].cast(IntegerType()))\n",
    "df.show(n=5)\n",
    "#provide index values for item and user to convert them into integers\n",
    "stringIndexer = StringIndexer(inputCols=[\"item\",\"user\"], outputCols=[\"itemIndex\",\"userIndex\"])\n",
    "model = stringIndexer.fit(df)\n",
    "df_indexed = model.transform(df)\n",
    "df_indexed.show(n=5)"
   ]
  },
  {
   "cell_type": "code",
   "execution_count": 3,
   "metadata": {},
   "outputs": [
    {
     "name": "stdout",
     "output_type": "stream",
     "text": [
      "--- 14.222917079925537 seconds ---\n",
      "+----------+--------------+------+----------+---------+---------+-----------+\n",
      "|      item|          user|rating| timestamp|itemIndex|userIndex| prediction|\n",
      "+----------+--------------+------+----------+---------+---------+-----------+\n",
      "|B00MV9O08G|A10H4SOMLYPYS0|     5|1458000000|    148.0|   1457.0|  1.2122207|\n",
      "|B00MV9O08G| ATZ9ZSR664K54|     5|1469404800|    148.0|     61.0|  3.0067074|\n",
      "|B00MV9O08G| ALQUMN89FI5HD|     5|1511740800|    148.0|      7.0|   2.729206|\n",
      "|B00MV9O08G|A3PFH1ZJH5DAXN|     4|1463961600|    148.0|   9201.0|0.026842471|\n",
      "|B00MV9O08G|A241GI5D9EVJI6|     5|1482278400|    148.0|    482.0|  1.5886235|\n",
      "|B00MV9O08G| AA47T2SDZBR8A|     5|1487808000|    148.0|   9960.0|-0.88929456|\n",
      "|B00MV9O08G|A1GKK3NBBZ9W6I|     5|1453420800|    148.0|   4371.0|  1.3437798|\n",
      "|B00MV9O08G| AA0XW0HGIL0XK|     5|1501113600|    148.0|    357.0|   3.972007|\n",
      "|B00BT1XEB6|A1DC5RDWVSJBXQ|     5|1419120000|    463.0|    256.0|  3.1039681|\n",
      "|B00BXLV9NM|A13OFOB1394G31|     5|1481587200|    471.0|     98.0|  6.7876134|\n",
      "|B00BXLV9NM|A1PTQQT50NWO5R|     5|1427414400|    471.0|   4934.0|  1.7148877|\n",
      "|B004KNWWT0|A2U67QFIWCEJEH|     5|1485302400|    243.0|   7361.0| -0.9339427|\n",
      "|B006PJHPKI| ALA6J6NIENQX3|     5|1497052800|    392.0|    685.0| 0.38432896|\n",
      "|B006PJHPKI|A1NAS70WPS3473|     5|1492905600|    392.0|    846.0|   3.650567|\n",
      "|B006PJHPKI|A1WCW1LRHXTD1E|     5|1515715200|    392.0|   5327.0|   2.006056|\n",
      "|B006PJHPKI|A3UQF6Q76H6M8G|     5|1494806400|    392.0|   9501.0|-0.14619833|\n",
      "|B00F56OENS|A2M494YU7Z9ZVY|     5|1447804800|    623.0|   6887.0|  -1.815896|\n",
      "|B00F56PD2O|A2ZHFXUPNLAPZY|     5|1416096000|    897.0|   7696.0|   2.244349|\n",
      "|B00BXQIGA6|A2XREU38W4XMI4|     1|1516838400|     31.0|   7587.0| 0.15296349|\n",
      "|B00BXQIGA6|A3RDYCJTTM80AR|     5|1518048000|     31.0|   1243.0| -0.5940885|\n",
      "+----------+--------------+------+----------+---------+---------+-----------+\n",
      "only showing top 20 rows\n",
      "\n"
     ]
    }
   ],
   "source": [
    "#split the data into training and testing set\n",
    "(training, test) = df_indexed.randomSplit([0.8, 0.2])\n",
    "#training the model\n",
    "#define the model parameters\n",
    "als = ALS(maxIter=5, \n",
    "          implicitPrefs=False,\n",
    "          userCol=\"userIndex\", \n",
    "          itemCol=\"itemIndex\", \n",
    "          ratingCol=\"rating\",\n",
    "          coldStartStrategy=\"drop\")\n",
    "#start time\n",
    "start_time = time.time()\n",
    "#train the model\n",
    "model = als.fit(training)\n",
    "# predict using the testing datatset\n",
    "predictions = model.transform(test)\n",
    "#end time\n",
    "print(\"--- %s seconds ---\" % (time.time() - start_time))\n",
    "predictions.show()"
   ]
  },
  {
   "cell_type": "code",
   "execution_count": 4,
   "metadata": {},
   "outputs": [
    {
     "name": "stdout",
     "output_type": "stream",
     "text": [
      "+---------+---------+------+\n",
      "|userIndex|itemIndex|rating|\n",
      "+---------+---------+------+\n",
      "|9386.0   |463.0    |5     |\n",
      "|9386.0   |53.0     |4     |\n",
      "+---------+---------+------+\n",
      "\n"
     ]
    }
   ],
   "source": [
    "def topLikes(dataframe,userIndex,limit):\n",
    " df = dataframe.filter(dataframe.userIndex==userIndex)\\\n",
    " .sort(dataframe.rating.desc())\\\n",
    " .select(dataframe.userIndex,dataframe.itemIndex,dataframe.rating)\\\n",
    " .limit(limit)\n",
    " return df\n",
    "# display top liked items for a user\n",
    "topLikes(df_indexed,9386,10).show(truncate=False)"
   ]
  },
  {
   "cell_type": "code",
   "execution_count": 5,
   "metadata": {},
   "outputs": [
    {
     "data": {
      "text/plain": [
       "[Row(itemIndex=[884, 1163, 1196, 905, 612], rating=[9.235403060913086, 7.620708465576172, 7.283617973327637, 7.173076629638672, 7.070064544677734])]"
      ]
     },
     "execution_count": 5,
     "metadata": {},
     "output_type": "execute_result"
    }
   ],
   "source": [
    "def recommendedItems(userIndex,limit):\n",
    "    test =  model.recommendForAllUsers(5)\\\n",
    "        .filter(col('userIndex')==userIndex)\\\n",
    "        .select([\"recommendations.itemIndex\",\"recommendations.rating\"])\\\n",
    "        .collect()\n",
    "    return test\n",
    "# display top 5 recommended artists for user 2062243\n",
    "recommendedItems(9386,5)"
   ]
  }
 ],
 "metadata": {
  "kernelspec": {
   "display_name": "Python 3",
   "language": "python",
   "name": "python3"
  },
  "language_info": {
   "codemirror_mode": {
    "name": "ipython",
    "version": 3
   },
   "file_extension": ".py",
   "mimetype": "text/x-python",
   "name": "python",
   "nbconvert_exporter": "python",
   "pygments_lexer": "ipython3",
   "version": "3.8.3"
  }
 },
 "nbformat": 4,
 "nbformat_minor": 4
}
