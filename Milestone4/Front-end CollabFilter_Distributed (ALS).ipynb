{
 "cells": [
  {
   "cell_type": "code",
   "execution_count": 1,
   "metadata": {},
   "outputs": [],
   "source": [
    "# import libraries\n",
    "import time\n",
    "import os\n",
    "import pandas as pd\n",
    "import numpy as np\n",
    "from pyspark import SparkContext\n",
    "from pyspark.ml.recommendation import ALS\n",
    "from pyspark.ml.feature import StringIndexer\n",
    "from pyspark.sql import SparkSession, Row\n",
    "from pyspark.sql.functions import col\n",
    "from pyspark.sql.types import StructType, StructField, IntegerType, StringType\n",
    "from pyspark.ml.evaluation import RegressionEvaluator\n",
    "from pyspark.sql import functions as F\n",
    "from pyspark.sql.functions import explode\n",
    "from IPython.display import Image\n",
    "import matplotlib.pyplot as plt\n",
    "import ipywidgets as widgets\n",
    "from IPython.display import clear_output"
   ]
  },
  {
   "cell_type": "markdown",
   "metadata": {},
   "source": [
    "# Start up spark cluster"
   ]
  },
  {
   "cell_type": "code",
   "execution_count": 2,
   "metadata": {},
   "outputs": [],
   "source": [
    "appName=\"Collaborative Filtering with PySpark\"\n",
    "# initialize the spark session\n",
    "spark = SparkSession.builder\\\n",
    "    .appName(appName)\\\n",
    "    .config('spark.driver.memory', '15g')\\\n",
    "    .getOrCreate()\n",
    "# get sparkcontext from the sparksession\n",
    "sc = spark.sparkContext"
   ]
  },
  {
   "cell_type": "markdown",
   "metadata": {},
   "source": [
    "# Define Data loading function"
   ]
  },
  {
   "cell_type": "code",
   "execution_count": 3,
   "metadata": {},
   "outputs": [],
   "source": [
    "def load_dataset(path):\n",
    "    #define schema\n",
    "    schema = StructType([\n",
    "        StructField(\"item\", StringType(), True),\n",
    "        StructField(\"user\", StringType(), True),\n",
    "        StructField(\"rating\", StringType(), True),\n",
    "        StructField(\"timestamp\", IntegerType(), True)])\n",
    "\n",
    "    df = spark.read.csv(path ,header=False,schema=schema)\n",
    "    df = df.withColumn(\"rating\", df[\"rating\"].cast(IntegerType()))\n",
    "    \n",
    "    #provide index values for item and user to convert them into integers\n",
    "    stringIndexer = StringIndexer(inputCols=[\"item\",\"user\"], outputCols=[\"itemIndex\",\"userIndex\"])\n",
    "    model = stringIndexer.fit(df)\n",
    "    df = model.transform(df)\n",
    "    \n",
    "    #df = df.withColumn(\"userIndex\", df[\"userIndex\"].cast(IntegerType()))\n",
    "    \n",
    "    return df"
   ]
  },
  {
   "cell_type": "markdown",
   "metadata": {},
   "source": [
    "# Define ALS object"
   ]
  },
  {
   "cell_type": "code",
   "execution_count": 4,
   "metadata": {},
   "outputs": [],
   "source": [
    "als = ALS(maxIter=15, \n",
    "          implicitPrefs=False,\n",
    "          regParam=0.25,\n",
    "          userCol=\"userIndex\", \n",
    "          itemCol=\"itemIndex\", \n",
    "          ratingCol=\"rating\",\n",
    "          coldStartStrategy=\"drop\")"
   ]
  },
  {
   "cell_type": "markdown",
   "metadata": {},
   "source": [
    "# Define Recommendation Algorithm"
   ]
  },
  {
   "cell_type": "code",
   "execution_count": 5,
   "metadata": {},
   "outputs": [],
   "source": [
    "# display top n recommended artists for a user\n",
    "def recommendedItems(userIndex, model, n):\n",
    "    test = model.recommendForAllUsers(n)\\\n",
    "        .filter(col('userIndex')==userIndex)\\\n",
    "        .select([\"recommendations.itemIndex\",\"recommendations.rating\"])\\\n",
    "        .withColumn(\"rec_exp\", explode(\"itemIndex\"))\\\n",
    "        .select(col('rec_exp'))\\\n",
    "        .withColumnRenamed('rec_exp', 'itemIndex')\n",
    "        \n",
    "    return test\n",
    "\n",
    "# recs = recommendedItems(9386, n=6)\n",
    "# recs.show()"
   ]
  },
  {
   "cell_type": "markdown",
   "metadata": {},
   "source": [
    "## Print out n recommendations for user"
   ]
  },
  {
   "cell_type": "code",
   "execution_count": 6,
   "metadata": {},
   "outputs": [],
   "source": [
    "def print_recs(recs_df):\n",
    "    output_string = ''\n",
    "    for i, row in recs_df.iterrows():\n",
    "        output_string += f' {i+1}. {row.title}\\n'\n",
    "        output_string += ' '*5 + 'https://www.amazon.com/dp/{}'.format(row['item']) + '\\n'\n",
    "    return output_string\n"
   ]
  },
  {
   "cell_type": "code",
   "execution_count": 7,
   "metadata": {
    "scrolled": true
   },
   "outputs": [],
   "source": [
    "def get_recommendation(userID, model, item_df, meta_df, n=6):\n",
    "    recs = recommendedItems(userID, model, n=6)\n",
    "    nrecommendations_df = recs.join(item_df, on='itemIndex').toPandas()\n",
    "    recs_df = nrecommendations_df.merge(meta_df)\n",
    "    return print_recs(recs_df)\n",
    "    \n",
    "#get_recommendation(9386)"
   ]
  },
  {
   "cell_type": "code",
   "execution_count": 8,
   "metadata": {},
   "outputs": [
    {
     "name": "stdout",
     "output_type": "stream",
     "text": [
      "20\n"
     ]
    }
   ],
   "source": [
    "print(10 + 10)"
   ]
  },
  {
   "cell_type": "code",
   "execution_count": null,
   "metadata": {},
   "outputs": [],
   "source": []
  },
  {
   "cell_type": "code",
   "execution_count": 8,
   "metadata": {},
   "outputs": [
    {
     "name": "stdout",
     "output_type": "stream",
     "text": [
      "Category\n"
     ]
    },
    {
     "data": {
      "application/vnd.jupyter.widget-view+json": {
       "model_id": "8762fdad59b9459b8f70ea8582901b7c",
       "version_major": 2,
       "version_minor": 0
      },
      "text/plain": [
       "Dropdown(options=('Software', 'Automotive', 'Movies_and_TV', 'Industrial_and_Scientific', 'Grocery_and_Gourmet…"
      ]
     },
     "metadata": {},
     "output_type": "display_data"
    },
    {
     "name": "stdout",
     "output_type": "stream",
     "text": [
      "\n",
      "Userid\n"
     ]
    },
    {
     "data": {
      "application/vnd.jupyter.widget-view+json": {
       "model_id": "b6fdcd2ee1794b3288eaca51520b9823",
       "version_major": 2,
       "version_minor": 0
      },
      "text/plain": [
       "BoundedFloatText(value=9386.0, max=1000000.0, step=1.0)"
      ]
     },
     "metadata": {},
     "output_type": "display_data"
    },
    {
     "data": {
      "application/vnd.jupyter.widget-view+json": {
       "model_id": "23a5d5a5e57e43419fc5facf030384c1",
       "version_major": 2,
       "version_minor": 0
      },
      "text/plain": [
       "Button(description='Recommend', style=ButtonStyle())"
      ]
     },
     "metadata": {},
     "output_type": "display_data"
    }
   ],
   "source": [
    "def get_fnames(path=r'./ratings_data'):\n",
    "    fnames = [f.split('.')[0] for f in os.listdir(path) if f.endswith('.csv')]\n",
    "    return fnames\n",
    "\n",
    "fnames = get_fnames()\n",
    "dropdown_category = widgets.Dropdown(options = fnames)\n",
    "\n",
    "\n",
    "#create display\n",
    "output_recs = widgets.Output()\n",
    "\n",
    "        \n",
    "#get user id\n",
    "userid_input = widgets.BoundedFloatText(\n",
    "min=0, max=1000000, value=9386, step=1)\n",
    "\n",
    "\n",
    "btn = widgets.Button(description='Recommend')\n",
    "\n",
    "def btn_eventhandler(obj):\n",
    "    #Load data\n",
    "    print('Loading Data...')\n",
    "    start_time = time.time()\n",
    "    fname = dropdown_category.value +'.csv'\n",
    "    df = load_dataset(r'./ratings_data/' + fname)\n",
    "    \n",
    "    test_fraction = .35\n",
    "    training, test = df.randomSplit([1-test_fraction, test_fraction])\n",
    "    \n",
    "    #get items\n",
    "    item_df = df.groupby(\"itemIndex\")\\\n",
    "       .agg(F.min(\"item\"))\\\n",
    "       .withColumnRenamed('min(item)', 'item')\n",
    "    item_df = item_df.withColumn(\"itemIndex\", item_df[\"itemIndex\"].cast(IntegerType()))\n",
    "    \n",
    "    #get meta information\n",
    "    meta_df = pd.read_csv(f'./meta_data/meta_{fname}').rename(columns={'asin':'item'})\n",
    "    print(f' Time taken to load data: {time.time() - start_time:.1f} seconds.\\n')\n",
    "    \n",
    "    print('Fitting Data...')\n",
    "    start_time = time.time()\n",
    "    model = als.fit(training)\n",
    "    print(f' Time taken to fit data: {time.time() - start_time:.1f} seconds.\\n')\n",
    "    \n",
    "    \n",
    "    \n",
    "    userid = int(userid_input.value)\n",
    "    start_time = time.time()\n",
    "    print('Calculating Recommendations...\\n')\n",
    "    \n",
    "    #output\n",
    "    title = f'{dropdown_category.value} recommendations for user {userid}:'\n",
    "    print(title)\n",
    "    print('-'*len(title))\n",
    "    \n",
    "    \n",
    "    recs = get_recommendation(userid, model, item_df, meta_df)\n",
    "    print(recs)\n",
    "    print(f' Time taken to recommend: {time.time() - start_time:.1f} seconds.')\n",
    "    \n",
    "    \n",
    "\n",
    "print('Category')\n",
    "display(dropdown_category)\n",
    "print('\\nUserid')\n",
    "display(userid_input)\n",
    "\n",
    "display(btn)\n",
    "btn.on_click(btn_eventhandler)"
   ]
  },
  {
   "cell_type": "markdown",
   "metadata": {},
   "source": [
    "If above list and button doesn't appear - run the following cell"
   ]
  },
  {
   "cell_type": "code",
   "execution_count": 9,
   "metadata": {},
   "outputs": [],
   "source": [
    "def run_dist_als(fname, userid):\n",
    "    print('Loading Data...')\n",
    "    start_time = time.time()\n",
    "    fname = fname +'.csv'\n",
    "    df = load_dataset(r'./ratings_data/' + fname)\n",
    "    \n",
    "    test_fraction = .35\n",
    "    training, test = df.randomSplit([1-test_fraction, test_fraction])\n",
    "    \n",
    "    #get items\n",
    "    item_df = df.groupby(\"itemIndex\")\\\n",
    "       .agg(F.min(\"item\"))\\\n",
    "       .withColumnRenamed('min(item)', 'item')\n",
    "    item_df = item_df.withColumn(\"itemIndex\", item_df[\"itemIndex\"].cast(IntegerType()))\n",
    "    \n",
    "    #get meta information\n",
    "    meta_df = pd.read_csv(f'./meta_data/meta_{fname}').rename(columns={'asin':'item'})\n",
    "    print(f' Time taken to load data: {time.time() - start_time:.1f} seconds.\\n')\n",
    "    \n",
    "    print('Fitting Data...')\n",
    "    start_time = time.time()\n",
    "    model = als.fit(training)\n",
    "    print(f' Time taken to fit data: {time.time() - start_time:.1f} seconds.\\n')\n",
    "    \n",
    "    \n",
    "    \n",
    "    userid = int(userid_input.value)\n",
    "    start_time = time.time()\n",
    "    print('Calculating Recommendations...\\n')\n",
    "    \n",
    "    #output\n",
    "    title = f'{dropdown_category.value} recommendations for user {userid}:'\n",
    "    print(title)\n",
    "    print('-'*len(title))\n",
    "    \n",
    "    \n",
    "    recs = get_recommendation(userid, model, item_df, meta_df)\n",
    "    print(recs)\n",
    "    print(f' Time taken to recommend: {time.time() - start_time:.1f} seconds.')"
   ]
  },
  {
   "cell_type": "code",
   "execution_count": 12,
   "metadata": {},
   "outputs": [
    {
     "name": "stdout",
     "output_type": "stream",
     "text": [
      "Loading Data...\n",
      " Time taken to load data: 3.4 seconds.\n",
      "\n",
      "Fitting Data...\n",
      " Time taken to fit data: 81.3 seconds.\n",
      "\n",
      "Calculating Recommendations...\n",
      "\n",
      "Software recommendations for user 9386:\n",
      "---------------------------------------\n",
      " 1. Whirlpool Part Number UXA4905ADX: RACK-OVEN\n",
      "     https://www.amazon.com/dp/B001RCIQS8\n",
      " 2. Frigidaire PL30WC41EC30&quot; Stainless Steel Under Cabinet Range Hood\n",
      "     https://www.amazon.com/dp/B000R9E5GY\n",
      " 3. Ge WR17X11586 Refrigerator Door Bin Genuine Original Equipment Manufacturer (OEM) Part\n",
      "     https://www.amazon.com/dp/B003BVZZSW\n",
      " 4. Modern Maid 6&quot; Range Cooktop Stove Replacement Surface Burner Heating Element 31734601\n",
      "     https://www.amazon.com/dp/B00DVKBSP2\n",
      " 5. BERKEL 0827-00042 Capacitor\n",
      "     https://www.amazon.com/dp/B00EN8OBWS\n",
      " 6. Bake Element for General Electric, Hotpoint, WB44X195\n",
      "     https://www.amazon.com/dp/B009PNOIK6\n",
      "\n",
      " Time taken to recommend: 223.9 seconds.\n"
     ]
    }
   ],
   "source": [
    "run_dist_als(fname='Appliances', userid=9386)"
   ]
  },
  {
   "cell_type": "code",
   "execution_count": null,
   "metadata": {},
   "outputs": [],
   "source": []
  }
 ],
 "metadata": {
  "kernelspec": {
   "display_name": "Python 3",
   "language": "python",
   "name": "python3"
  },
  "language_info": {
   "codemirror_mode": {
    "name": "ipython",
    "version": 3
   },
   "file_extension": ".py",
   "mimetype": "text/x-python",
   "name": "python",
   "nbconvert_exporter": "python",
   "pygments_lexer": "ipython3",
   "version": "3.8.3"
  }
 },
 "nbformat": 4,
 "nbformat_minor": 4
}
