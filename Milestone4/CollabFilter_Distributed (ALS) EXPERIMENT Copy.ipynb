{
 "cells": [
  {
   "cell_type": "code",
   "execution_count": 1,
   "metadata": {},
   "outputs": [],
   "source": [
    "# import libraries\n",
    "import time\n",
    "import os\n",
    "import pandas as pd\n",
    "import numpy as np\n",
    "from pyspark import SparkContext\n",
    "from pyspark.ml.recommendation import ALS\n",
    "from pyspark.ml.feature import StringIndexer\n",
    "from pyspark.sql import SparkSession, Row\n",
    "from pyspark.sql.functions import col\n",
    "from pyspark.sql.types import StructType, StructField, IntegerType, StringType\n",
    "from pyspark.ml.evaluation import RegressionEvaluator\n",
    "from pyspark.sql import functions as F\n",
    "from pyspark.sql.functions import explode\n",
    "from IPython.display import Image\n",
    "import matplotlib.pyplot as plt"
   ]
  },
  {
   "cell_type": "markdown",
   "metadata": {},
   "source": [
    "Add a bit of interactivity"
   ]
  },
  {
   "cell_type": "code",
   "execution_count": 2,
   "metadata": {},
   "outputs": [],
   "source": [
    "import ipywidgets as widgets"
   ]
  },
  {
   "cell_type": "code",
   "execution_count": 3,
   "metadata": {},
   "outputs": [
    {
     "ename": "NameError",
     "evalue": "name 'output_recs' is not defined",
     "output_type": "error",
     "traceback": [
      "\u001b[0;31m---------------------------------------------------------------------------\u001b[0m",
      "\u001b[0;31mNameError\u001b[0m                                 Traceback (most recent call last)",
      "\u001b[0;32m<ipython-input-3-5508f6f7c710>\u001b[0m in \u001b[0;36m<module>\u001b[0;34m\u001b[0m\n\u001b[0;32m----> 1\u001b[0;31m \u001b[0mdisplay\u001b[0m\u001b[0;34m(\u001b[0m\u001b[0moutput_recs\u001b[0m\u001b[0;34m)\u001b[0m\u001b[0;34m\u001b[0m\u001b[0;34m\u001b[0m\u001b[0m\n\u001b[0m",
      "\u001b[0;31mNameError\u001b[0m: name 'output_recs' is not defined"
     ]
    }
   ],
   "source": [
    "display(output_recs)"
   ]
  },
  {
   "cell_type": "code",
   "execution_count": null,
   "metadata": {},
   "outputs": [],
   "source": []
  },
  {
   "cell_type": "markdown",
   "metadata": {},
   "source": [
    "# Start up spark cluster"
   ]
  },
  {
   "cell_type": "code",
   "execution_count": 4,
   "metadata": {},
   "outputs": [],
   "source": [
    "appName=\"Collaborative Filtering with PySpark\"\n",
    "# initialize the spark session\n",
    "spark = SparkSession.builder.appName(appName).getOrCreate()\n",
    "# get sparkcontext from the sparksession\n",
    "sc = spark.sparkContext"
   ]
  },
  {
   "cell_type": "markdown",
   "metadata": {},
   "source": [
    "# Load in Data and split into Train and Test"
   ]
  },
  {
   "cell_type": "code",
   "execution_count": 5,
   "metadata": {},
   "outputs": [],
   "source": [
    "def load_dataset(path):\n",
    "    #define schema\n",
    "    schema = StructType([\n",
    "        StructField(\"item\", StringType(), True),\n",
    "        StructField(\"user\", StringType(), True),\n",
    "        StructField(\"rating\", StringType(), True),\n",
    "        StructField(\"timestamp\", IntegerType(), True)])\n",
    "\n",
    "    df = spark.read.csv(path ,header=False,schema=schema)\n",
    "    df = df.withColumn(\"rating\", df[\"rating\"].cast(IntegerType()))\n",
    "    \n",
    "    #provide index values for item and user to convert them into integers\n",
    "    stringIndexer = StringIndexer(inputCols=[\"item\",\"user\"], outputCols=[\"itemIndex\",\"userIndex\"])\n",
    "    model = stringIndexer.fit(df)\n",
    "    df = model.transform(df)\n",
    "    \n",
    "    #df = df.withColumn(\"userIndex\", df[\"userIndex\"].cast(IntegerType()))\n",
    "    \n",
    "    return df"
   ]
  },
  {
   "cell_type": "code",
   "execution_count": 6,
   "metadata": {},
   "outputs": [
    {
     "name": "stdout",
     "output_type": "stream",
     "text": [
      "root\n",
      " |-- item: string (nullable = true)\n",
      " |-- user: string (nullable = true)\n",
      " |-- rating: integer (nullable = true)\n",
      " |-- timestamp: integer (nullable = true)\n",
      " |-- itemIndex: double (nullable = false)\n",
      " |-- userIndex: double (nullable = false)\n",
      "\n",
      "- training df -\n",
      "+----------+--------------+------+----------+---------+---------+\n",
      "|      item|          user|rating| timestamp|itemIndex|userIndex|\n",
      "+----------+--------------+------+----------+---------+---------+\n",
      "|0077613252|A1YCCU0YRLS0FE|     4|1393113600|   3637.0| 133125.0|\n",
      "|0077613252| APRDVZ6QBIQXT|     3|1392595200|   3637.0| 350871.0|\n",
      "|0132147556|A1M4P30L5OACAI|     3|1371427200|   2311.0|  20612.0|\n",
      "|0132147556|A1N8M648G5E2BM|     1|1335916800|   2311.0| 106636.0|\n",
      "|0132147556|A1OU9LR6C03LNB|     2|1371945600|   2311.0| 110492.0|\n",
      "+----------+--------------+------+----------+---------+---------+\n",
      "only showing top 5 rows\n",
      "\n",
      "- test df -\n",
      "+----------+--------------+------+----------+---------+---------+\n",
      "|      item|          user|rating| timestamp|itemIndex|userIndex|\n",
      "+----------+--------------+------+----------+---------+---------+\n",
      "|0077613252|A1BJHRQDYVAY2J|     1|1392595200|   3637.0|  78609.0|\n",
      "|0077613252|A240ORQ2LF9LUI|     4|1394496000|   3637.0| 146676.0|\n",
      "|0077775473|A2JZTTBSLS1QXV|     5|1381708800|   4318.0| 184790.0|\n",
      "|0132147556|A1CUJ6ZT82H7LS|     2|1241308800|   2311.0|  81716.0|\n",
      "|0132147556|A3HB3SSFVVZNH0|     5|1373587200|   2311.0| 263255.0|\n",
      "+----------+--------------+------+----------+---------+---------+\n",
      "only showing top 5 rows\n",
      "\n"
     ]
    }
   ],
   "source": [
    "fname = 'Software'\n",
    "path = r'./ratings_data/{}.csv'.format(fname)\n",
    "df = load_dataset(path)\n",
    "df.printSchema()\n",
    "\n",
    "test_fraction = .35\n",
    "\n",
    "training, test = df.randomSplit([1-test_fraction, test_fraction])\n",
    "\n",
    "print('- training df -')\n",
    "training.show(n=5)\n",
    "\n",
    "print('- test df -')\n",
    "test.show(n=5)"
   ]
  },
  {
   "cell_type": "markdown",
   "metadata": {},
   "source": [
    "# Define ALS object"
   ]
  },
  {
   "cell_type": "code",
   "execution_count": 7,
   "metadata": {},
   "outputs": [],
   "source": [
    "als = ALS(maxIter=15, \n",
    "          implicitPrefs=False,\n",
    "          regParam=0.25,\n",
    "          userCol=\"userIndex\", \n",
    "          itemCol=\"itemIndex\", \n",
    "          ratingCol=\"rating\",\n",
    "          coldStartStrategy=\"drop\")"
   ]
  },
  {
   "cell_type": "markdown",
   "metadata": {},
   "source": [
    "- Need to tinker with hyperparameters (for ALS, train-test split, etc)\n",
    "- need to regularize\n",
    "- Use metrics to evaluate fit (right now we are overfitting)\n",
    "- assign USERS to train-test dfs (not observations)"
   ]
  },
  {
   "cell_type": "code",
   "execution_count": 8,
   "metadata": {},
   "outputs": [],
   "source": [
    "model = als.fit(training)"
   ]
  },
  {
   "cell_type": "code",
   "execution_count": 9,
   "metadata": {},
   "outputs": [
    {
     "name": "stdout",
     "output_type": "stream",
     "text": [
      "+----------+--------------+------+----------+---------+---------+----------+\n",
      "|      item|          user|rating| timestamp|itemIndex|userIndex|prediction|\n",
      "+----------+--------------+------+----------+---------+---------+----------+\n",
      "|B015724B8M|A1Q57PPAR0MQDD|     5|1475020800|    148.0|  21682.0| 4.0159373|\n",
      "|B015724B8M|A1V9URY58AWPER|     5|1523059200|    148.0|  23100.0|  4.058794|\n",
      "|B015724B8M|A2JX9X0RMD9632|     5|1476144000|    148.0|  29715.0| 4.0159373|\n",
      "|B015724B8M|A3MGPEAUXD0JNK|     5|1462147200|    148.0|   5592.0| 4.0951076|\n",
      "|B015724B8M| AYUH7SGZNCVAY|     3|1503014400|    148.0|  14669.0| 0.6195186|\n",
      "|B015724B8M|A16EJMOWU76BNE|     1|1522713600|    148.0|   6924.0|0.76081455|\n",
      "|B015724B8M|A3DXYKQQSRYOP1|     5|1478044800|    148.0|   2998.0| 4.3059855|\n",
      "|B015724B8M|A2JZWS54E82TS1|     5|1493424000|    148.0|  29737.0| 3.7670693|\n",
      "|B015724B8M|A1FTQN6EPPCAUP|     5|1454284800|    148.0|   3923.0|  4.126901|\n",
      "|B015724B8M|A1JWKY3Y3GPNCX|     4|1506038400|    148.0|  19967.0| 1.9163489|\n",
      "+----------+--------------+------+----------+---------+---------+----------+\n",
      "only showing top 10 rows\n",
      "\n",
      "+----------+--------------+------+----------+---------+---------+----------+\n",
      "|      item|          user|rating| timestamp|itemIndex|userIndex|prediction|\n",
      "+----------+--------------+------+----------+---------+---------+----------+\n",
      "|B015724B8M|A11SNEVYZH5OVS|     5|1505606400|    148.0|   6654.0|  4.598767|\n",
      "|B015724B8M| AKXXMTX4HRP54|     3|1455062400|    148.0|  13832.0| 3.1368806|\n",
      "|B015724B8M|A30Z4FSY38EZQE|     5|1499731200|    148.0| 224708.0| 4.7009144|\n",
      "|B015724B8M|A31GKJ16GOLN8V|     4|1493856000|    148.0| 225877.0| 3.7607315|\n",
      "|B015724B8M|A1FHVW0OIPQKG9|     5|1501977600|    148.0|  87982.0| 4.7009144|\n",
      "+----------+--------------+------+----------+---------+---------+----------+\n",
      "only showing top 5 rows\n",
      "\n"
     ]
    }
   ],
   "source": [
    "predictions = model.transform(test)\n",
    "predictions.show(10)\n",
    "\n",
    "predictions_train = model.transform(training)\n",
    "predictions_train.show(5)"
   ]
  },
  {
   "cell_type": "code",
   "execution_count": 10,
   "metadata": {},
   "outputs": [
    {
     "name": "stdout",
     "output_type": "stream",
     "text": [
      "Root Mean Squared Error (RMSE) on training data = 2.5170439677720697\n",
      "Root Mean Squared Error (RMSE) on test data = 0.285588542038623\n"
     ]
    }
   ],
   "source": [
    "evaluator = RegressionEvaluator(\n",
    "    labelCol=\"rating\", predictionCol=\"prediction\", metricName=\"rmse\")\n",
    "\n",
    "test_rmse = evaluator.evaluate(predictions_train)\n",
    "train_rmse = evaluator.evaluate(predictions)\n",
    "\n",
    "print(f\"Root Mean Squared Error (RMSE) on training data = {train_rmse}\")\n",
    "print(f\"Root Mean Squared Error (RMSE) on test data = {test_rmse}\")"
   ]
  },
  {
   "cell_type": "code",
   "execution_count": 11,
   "metadata": {},
   "outputs": [
    {
     "name": "stdout",
     "output_type": "stream",
     "text": [
      "mae on training data = 1.9298181817288003\n",
      "mae on test data = 0.24636456026321105\n"
     ]
    }
   ],
   "source": [
    "evaluator = RegressionEvaluator(\n",
    "    labelCol=\"rating\", predictionCol=\"prediction\", metricName=\"mae\")\n",
    "\n",
    "test_mae = evaluator.evaluate(predictions_train)\n",
    "train_mae = evaluator.evaluate(predictions)\n",
    "\n",
    "print(f\"mae on training data = {train_mae}\")\n",
    "print(f\"mae on test data = {test_mae}\")"
   ]
  },
  {
   "cell_type": "markdown",
   "metadata": {},
   "source": [
    "# Iterate over regparams, and record RMSE for each."
   ]
  },
  {
   "cell_type": "code",
   "execution_count": 12,
   "metadata": {},
   "outputs": [
    {
     "name": "stdout",
     "output_type": "stream",
     "text": [
      "regParam = 0.1\n",
      "regParam = 0.15000000000000002\n",
      "regParam = 0.20000000000000004\n",
      "regParam = 0.25000000000000006\n",
      "regParam = 0.30000000000000004\n",
      "regParam = 0.3500000000000001\n",
      "regParam = 0.40000000000000013\n",
      "regParam = 0.45000000000000007\n",
      "regParam = 0.5000000000000001\n",
      "regParam = 0.5500000000000002\n",
      "regParam = 0.6000000000000002\n",
      "regParam = 0.6500000000000001\n"
     ]
    },
    {
     "data": {
      "text/html": [
       "<div>\n",
       "<style scoped>\n",
       "    .dataframe tbody tr th:only-of-type {\n",
       "        vertical-align: middle;\n",
       "    }\n",
       "\n",
       "    .dataframe tbody tr th {\n",
       "        vertical-align: top;\n",
       "    }\n",
       "\n",
       "    .dataframe thead th {\n",
       "        text-align: right;\n",
       "    }\n",
       "</style>\n",
       "<table border=\"1\" class=\"dataframe\">\n",
       "  <thead>\n",
       "    <tr style=\"text-align: right;\">\n",
       "      <th></th>\n",
       "      <th>regParam</th>\n",
       "      <th>train_rmse</th>\n",
       "      <th>test_rmse</th>\n",
       "    </tr>\n",
       "  </thead>\n",
       "  <tbody>\n",
       "    <tr>\n",
       "      <th>0</th>\n",
       "      <td>0.10</td>\n",
       "      <td>0.256410</td>\n",
       "      <td>3.939733</td>\n",
       "    </tr>\n",
       "    <tr>\n",
       "      <th>1</th>\n",
       "      <td>0.15</td>\n",
       "      <td>0.315088</td>\n",
       "      <td>3.556023</td>\n",
       "    </tr>\n",
       "    <tr>\n",
       "      <th>2</th>\n",
       "      <td>0.20</td>\n",
       "      <td>0.361242</td>\n",
       "      <td>3.379211</td>\n",
       "    </tr>\n",
       "    <tr>\n",
       "      <th>3</th>\n",
       "      <td>0.25</td>\n",
       "      <td>0.400087</td>\n",
       "      <td>3.337085</td>\n",
       "    </tr>\n",
       "    <tr>\n",
       "      <th>4</th>\n",
       "      <td>0.30</td>\n",
       "      <td>0.434797</td>\n",
       "      <td>3.376011</td>\n",
       "    </tr>\n",
       "    <tr>\n",
       "      <th>5</th>\n",
       "      <td>0.35</td>\n",
       "      <td>0.467911</td>\n",
       "      <td>3.454805</td>\n",
       "    </tr>\n",
       "    <tr>\n",
       "      <th>6</th>\n",
       "      <td>0.40</td>\n",
       "      <td>0.501619</td>\n",
       "      <td>3.547261</td>\n",
       "    </tr>\n",
       "    <tr>\n",
       "      <th>7</th>\n",
       "      <td>0.45</td>\n",
       "      <td>0.537642</td>\n",
       "      <td>3.639138</td>\n",
       "    </tr>\n",
       "    <tr>\n",
       "      <th>8</th>\n",
       "      <td>0.50</td>\n",
       "      <td>0.577046</td>\n",
       "      <td>3.723506</td>\n",
       "    </tr>\n",
       "    <tr>\n",
       "      <th>9</th>\n",
       "      <td>0.55</td>\n",
       "      <td>0.620247</td>\n",
       "      <td>3.797553</td>\n",
       "    </tr>\n",
       "    <tr>\n",
       "      <th>10</th>\n",
       "      <td>0.60</td>\n",
       "      <td>0.667149</td>\n",
       "      <td>3.860763</td>\n",
       "    </tr>\n",
       "    <tr>\n",
       "      <th>11</th>\n",
       "      <td>0.65</td>\n",
       "      <td>0.717319</td>\n",
       "      <td>3.913813</td>\n",
       "    </tr>\n",
       "  </tbody>\n",
       "</table>\n",
       "</div>"
      ],
      "text/plain": [
       "    regParam  train_rmse  test_rmse\n",
       "0       0.10    0.256410   3.939733\n",
       "1       0.15    0.315088   3.556023\n",
       "2       0.20    0.361242   3.379211\n",
       "3       0.25    0.400087   3.337085\n",
       "4       0.30    0.434797   3.376011\n",
       "5       0.35    0.467911   3.454805\n",
       "6       0.40    0.501619   3.547261\n",
       "7       0.45    0.537642   3.639138\n",
       "8       0.50    0.577046   3.723506\n",
       "9       0.55    0.620247   3.797553\n",
       "10      0.60    0.667149   3.860763\n",
       "11      0.65    0.717319   3.913813"
      ]
     },
     "execution_count": 12,
     "metadata": {},
     "output_type": "execute_result"
    }
   ],
   "source": [
    "results = []\n",
    "\n",
    "for lambda_ in np.arange(.1,.7, .05):\n",
    "    print(f'regParam = {lambda_}')\n",
    "    als = ALS(maxIter=5, \n",
    "          implicitPrefs=False,\n",
    "          regParam=lambda_,\n",
    "          userCol=\"userIndex\", \n",
    "          itemCol=\"itemIndex\", \n",
    "          ratingCol=\"rating\",\n",
    "          coldStartStrategy=\"drop\")\n",
    "    \n",
    "    model = als.fit(training)\n",
    "    \n",
    "    predictions = model.transform(test)\n",
    "    predictions_train = model.transform(training)\n",
    "    \n",
    "    test_rmse = evaluator.evaluate(predictions)\n",
    "    train_rmse = evaluator.evaluate(predictions_train)\n",
    "    \n",
    "    results.append([lambda_, train_rmse, test_rmse])\n",
    "    \n",
    "reg_df = pd.DataFrame(results, columns=['regParam', 'train_rmse', 'test_rmse'])\n",
    "reg_df"
   ]
  },
  {
   "cell_type": "code",
   "execution_count": 13,
   "metadata": {},
   "outputs": [
    {
     "data": {
      "image/png": "[encoded data removed]",
      "text/plain": [
       "<Figure size 576x432 with 1 Axes>"
      ]
     },
     "metadata": {
      "needs_background": "light"
     },
     "output_type": "display_data"
    }
   ],
   "source": [
    "plt.figure(figsize=(8,6))\n",
    "plt.plot(reg_df.regParam, reg_df.test_rmse)\n",
    "plt.plot(reg_df.regParam, reg_df.train_rmse)\n",
    "\n",
    "plt.ylabel('RMSE')\n",
    "plt.xlabel('lambda')\n",
    "plt.title('Error Over Regularization Parameter')\n",
    "plt.legend(['Testing Error', 'Training Error'])\n",
    "plt.savefig(r'./figures/regParam.png')"
   ]
  },
  {
   "cell_type": "markdown",
   "metadata": {},
   "source": [
    "Slightly better"
   ]
  },
  {
   "cell_type": "code",
   "execution_count": 14,
   "metadata": {},
   "outputs": [
    {
     "name": "stdout",
     "output_type": "stream",
     "text": [
      "maxIter = 5\n",
      "maxIter = 10\n",
      "maxIter = 15\n",
      "maxIter = 20\n"
     ]
    },
    {
     "data": {
      "text/html": [
       "<div>\n",
       "<style scoped>\n",
       "    .dataframe tbody tr th:only-of-type {\n",
       "        vertical-align: middle;\n",
       "    }\n",
       "\n",
       "    .dataframe tbody tr th {\n",
       "        vertical-align: top;\n",
       "    }\n",
       "\n",
       "    .dataframe thead th {\n",
       "        text-align: right;\n",
       "    }\n",
       "</style>\n",
       "<table border=\"1\" class=\"dataframe\">\n",
       "  <thead>\n",
       "    <tr style=\"text-align: right;\">\n",
       "      <th></th>\n",
       "      <th>maxIter</th>\n",
       "      <th>train_rmse</th>\n",
       "      <th>test_rmse</th>\n",
       "    </tr>\n",
       "  </thead>\n",
       "  <tbody>\n",
       "    <tr>\n",
       "      <th>0</th>\n",
       "      <td>5</td>\n",
       "      <td>0.400087</td>\n",
       "      <td>3.337085</td>\n",
       "    </tr>\n",
       "    <tr>\n",
       "      <th>1</th>\n",
       "      <td>10</td>\n",
       "      <td>0.294014</td>\n",
       "      <td>2.491132</td>\n",
       "    </tr>\n",
       "    <tr>\n",
       "      <th>2</th>\n",
       "      <td>15</td>\n",
       "      <td>0.270857</td>\n",
       "      <td>2.050679</td>\n",
       "    </tr>\n",
       "    <tr>\n",
       "      <th>3</th>\n",
       "      <td>20</td>\n",
       "      <td>0.264530</td>\n",
       "      <td>1.778208</td>\n",
       "    </tr>\n",
       "  </tbody>\n",
       "</table>\n",
       "</div>"
      ],
      "text/plain": [
       "   maxIter  train_rmse  test_rmse\n",
       "0        5    0.400087   3.337085\n",
       "1       10    0.294014   2.491132\n",
       "2       15    0.270857   2.050679\n",
       "3       20    0.264530   1.778208"
      ]
     },
     "execution_count": 14,
     "metadata": {},
     "output_type": "execute_result"
    }
   ],
   "source": [
    "results = []\n",
    "lambda_ = .25\n",
    "\n",
    "for maxIter in range(5,25,5):\n",
    "    print(f'maxIter = {maxIter}')\n",
    "    als = ALS(maxIter=maxIter, \n",
    "          implicitPrefs=False,\n",
    "          regParam=lambda_,\n",
    "          userCol=\"userIndex\", \n",
    "          itemCol=\"itemIndex\", \n",
    "          ratingCol=\"rating\",\n",
    "          coldStartStrategy=\"drop\")\n",
    "    \n",
    "    model = als.fit(training)\n",
    "    \n",
    "    predictions = model.transform(test)\n",
    "    predictions_train = model.transform(training)\n",
    "    \n",
    "    test_rmse = evaluator.evaluate(predictions)\n",
    "    train_rmse = evaluator.evaluate(predictions_train)\n",
    "    \n",
    "    results.append([maxIter, train_rmse, test_rmse])\n",
    "    \n",
    "iter_df = pd.DataFrame(results, columns=['maxIter', 'train_rmse', 'test_rmse'])\n",
    "iter_df"
   ]
  },
  {
   "cell_type": "code",
   "execution_count": 15,
   "metadata": {},
   "outputs": [
    {
     "data": {
      "image/png": "[encoded data removed]",
      "text/plain": [
       "<Figure size 576x432 with 1 Axes>"
      ]
     },
     "metadata": {
      "needs_background": "light"
     },
     "output_type": "display_data"
    }
   ],
   "source": [
    "plt.figure(figsize=(8,6))\n",
    "plt.plot(iter_df.maxIter, iter_df.test_rmse)\n",
    "plt.plot(iter_df.maxIter, iter_df.train_rmse)\n",
    "plt.ylabel('RMSE')\n",
    "plt.xlabel('maxIter')\n",
    "plt.title('Error Over Max Iterations')\n",
    "plt.legend(['Testing Error', 'Training Error'])\n",
    "plt.savefig(r'./figures/maxIter.png')"
   ]
  },
  {
   "cell_type": "code",
   "execution_count": 16,
   "metadata": {},
   "outputs": [
    {
     "name": "stdout",
     "output_type": "stream",
     "text": [
      "10\n",
      "0.2645295466876586 1.7782079294275652 65.07864189147949\n",
      "20\n",
      "0.26456436019415625 1.8882628100356258 73.76846551895142\n",
      "30\n",
      "0.2638666598026787 1.715384121795668 85.3313479423523\n",
      "40\n",
      "0.2646131811830349 1.744883988886635 96.819908618927\n",
      "50\n",
      "0.26445529100940424 1.7251428427959943 105.85895609855652\n",
      "60\n",
      "0.2646506869037249 1.8343911042698453 114.47665023803711\n",
      "70\n",
      "0.2639769283257781 1.7224157678180858 125.32689952850342\n",
      "80\n",
      "0.2646609537771081 1.845172470792509 135.86552667617798\n",
      "90\n",
      "0.2641753587412408 1.6583041916197747 145.38541531562805\n",
      "100\n",
      "0.2643378673928724 1.69179478760077 152.9412660598755\n"
     ]
    },
    {
     "data": {
      "text/html": [
       "<div>\n",
       "<style scoped>\n",
       "    .dataframe tbody tr th:only-of-type {\n",
       "        vertical-align: middle;\n",
       "    }\n",
       "\n",
       "    .dataframe tbody tr th {\n",
       "        vertical-align: top;\n",
       "    }\n",
       "\n",
       "    .dataframe thead th {\n",
       "        text-align: right;\n",
       "    }\n",
       "</style>\n",
       "<table border=\"1\" class=\"dataframe\">\n",
       "  <thead>\n",
       "    <tr style=\"text-align: right;\">\n",
       "      <th></th>\n",
       "      <th>block</th>\n",
       "      <th>total_time</th>\n",
       "      <th>train_rmse</th>\n",
       "      <th>test_rmse</th>\n",
       "    </tr>\n",
       "  </thead>\n",
       "  <tbody>\n",
       "    <tr>\n",
       "      <th>0</th>\n",
       "      <td>10</td>\n",
       "      <td>65.078642</td>\n",
       "      <td>0.264530</td>\n",
       "      <td>1.778208</td>\n",
       "    </tr>\n",
       "    <tr>\n",
       "      <th>1</th>\n",
       "      <td>20</td>\n",
       "      <td>73.768466</td>\n",
       "      <td>0.264564</td>\n",
       "      <td>1.888263</td>\n",
       "    </tr>\n",
       "    <tr>\n",
       "      <th>2</th>\n",
       "      <td>30</td>\n",
       "      <td>85.331348</td>\n",
       "      <td>0.263867</td>\n",
       "      <td>1.715384</td>\n",
       "    </tr>\n",
       "    <tr>\n",
       "      <th>3</th>\n",
       "      <td>40</td>\n",
       "      <td>96.819909</td>\n",
       "      <td>0.264613</td>\n",
       "      <td>1.744884</td>\n",
       "    </tr>\n",
       "    <tr>\n",
       "      <th>4</th>\n",
       "      <td>50</td>\n",
       "      <td>105.858956</td>\n",
       "      <td>0.264455</td>\n",
       "      <td>1.725143</td>\n",
       "    </tr>\n",
       "    <tr>\n",
       "      <th>5</th>\n",
       "      <td>60</td>\n",
       "      <td>114.476650</td>\n",
       "      <td>0.264651</td>\n",
       "      <td>1.834391</td>\n",
       "    </tr>\n",
       "    <tr>\n",
       "      <th>6</th>\n",
       "      <td>70</td>\n",
       "      <td>125.326900</td>\n",
       "      <td>0.263977</td>\n",
       "      <td>1.722416</td>\n",
       "    </tr>\n",
       "    <tr>\n",
       "      <th>7</th>\n",
       "      <td>80</td>\n",
       "      <td>135.865527</td>\n",
       "      <td>0.264661</td>\n",
       "      <td>1.845172</td>\n",
       "    </tr>\n",
       "    <tr>\n",
       "      <th>8</th>\n",
       "      <td>90</td>\n",
       "      <td>145.385415</td>\n",
       "      <td>0.264175</td>\n",
       "      <td>1.658304</td>\n",
       "    </tr>\n",
       "    <tr>\n",
       "      <th>9</th>\n",
       "      <td>100</td>\n",
       "      <td>152.941266</td>\n",
       "      <td>0.264338</td>\n",
       "      <td>1.691795</td>\n",
       "    </tr>\n",
       "  </tbody>\n",
       "</table>\n",
       "</div>"
      ],
      "text/plain": [
       "   block  total_time  train_rmse  test_rmse\n",
       "0     10   65.078642    0.264530   1.778208\n",
       "1     20   73.768466    0.264564   1.888263\n",
       "2     30   85.331348    0.263867   1.715384\n",
       "3     40   96.819909    0.264613   1.744884\n",
       "4     50  105.858956    0.264455   1.725143\n",
       "5     60  114.476650    0.264651   1.834391\n",
       "6     70  125.326900    0.263977   1.722416\n",
       "7     80  135.865527    0.264661   1.845172\n",
       "8     90  145.385415    0.264175   1.658304\n",
       "9    100  152.941266    0.264338   1.691795"
      ]
     },
     "execution_count": 16,
     "metadata": {},
     "output_type": "execute_result"
    }
   ],
   "source": [
    "results = []\n",
    "for block in range(10,110,10):\n",
    "    print(block)\n",
    "    start_time = time.time()\n",
    "    als = ALS(maxIter=20, \n",
    "              implicitPrefs=False,\n",
    "              regParam=.25,\n",
    "              userCol=\"userIndex\", \n",
    "              itemCol=\"itemIndex\",\n",
    "              numUserBlocks=block, #parallel\n",
    "              numItemBlocks=10, #parallel\n",
    "              ratingCol=\"rating\",\n",
    "              coldStartStrategy=\"drop\")\n",
    "\n",
    "    model = als.fit(training)\n",
    "\n",
    "    predictions = model.transform(test)\n",
    "    predictions_train = model.transform(training)\n",
    "\n",
    "    test_rmse = evaluator.evaluate(predictions)\n",
    "    train_rmse = evaluator.evaluate(predictions_train)\n",
    "    \n",
    "    total_time = time.time() - start_time\n",
    "    \n",
    "    results.append([block, total_time, train_rmse, test_rmse])\n",
    "\n",
    "    print(train_rmse, test_rmse, total_time)\n",
    "    \n",
    "user_blocks = pd.DataFrame(results, columns = ['block', 'total_time', 'train_rmse', 'test_rmse'])\n",
    "user_blocks"
   ]
  },
  {
   "cell_type": "code",
   "execution_count": 17,
   "metadata": {},
   "outputs": [
    {
     "data": {
      "text/html": [
       "<div>\n",
       "<style scoped>\n",
       "    .dataframe tbody tr th:only-of-type {\n",
       "        vertical-align: middle;\n",
       "    }\n",
       "\n",
       "    .dataframe tbody tr th {\n",
       "        vertical-align: top;\n",
       "    }\n",
       "\n",
       "    .dataframe thead th {\n",
       "        text-align: right;\n",
       "    }\n",
       "</style>\n",
       "<table border=\"1\" class=\"dataframe\">\n",
       "  <thead>\n",
       "    <tr style=\"text-align: right;\">\n",
       "      <th></th>\n",
       "      <th>block</th>\n",
       "      <th>total_time</th>\n",
       "      <th>train_rmse</th>\n",
       "      <th>test_rmse</th>\n",
       "    </tr>\n",
       "  </thead>\n",
       "  <tbody>\n",
       "    <tr>\n",
       "      <th>0</th>\n",
       "      <td>10</td>\n",
       "      <td>65.078642</td>\n",
       "      <td>0.264530</td>\n",
       "      <td>1.778208</td>\n",
       "    </tr>\n",
       "    <tr>\n",
       "      <th>1</th>\n",
       "      <td>20</td>\n",
       "      <td>73.768466</td>\n",
       "      <td>0.264564</td>\n",
       "      <td>1.888263</td>\n",
       "    </tr>\n",
       "    <tr>\n",
       "      <th>2</th>\n",
       "      <td>30</td>\n",
       "      <td>85.331348</td>\n",
       "      <td>0.263867</td>\n",
       "      <td>1.715384</td>\n",
       "    </tr>\n",
       "    <tr>\n",
       "      <th>3</th>\n",
       "      <td>40</td>\n",
       "      <td>96.819909</td>\n",
       "      <td>0.264613</td>\n",
       "      <td>1.744884</td>\n",
       "    </tr>\n",
       "    <tr>\n",
       "      <th>4</th>\n",
       "      <td>50</td>\n",
       "      <td>105.858956</td>\n",
       "      <td>0.264455</td>\n",
       "      <td>1.725143</td>\n",
       "    </tr>\n",
       "    <tr>\n",
       "      <th>5</th>\n",
       "      <td>60</td>\n",
       "      <td>114.476650</td>\n",
       "      <td>0.264651</td>\n",
       "      <td>1.834391</td>\n",
       "    </tr>\n",
       "    <tr>\n",
       "      <th>6</th>\n",
       "      <td>70</td>\n",
       "      <td>125.326900</td>\n",
       "      <td>0.263977</td>\n",
       "      <td>1.722416</td>\n",
       "    </tr>\n",
       "    <tr>\n",
       "      <th>7</th>\n",
       "      <td>80</td>\n",
       "      <td>135.865527</td>\n",
       "      <td>0.264661</td>\n",
       "      <td>1.845172</td>\n",
       "    </tr>\n",
       "    <tr>\n",
       "      <th>8</th>\n",
       "      <td>90</td>\n",
       "      <td>145.385415</td>\n",
       "      <td>0.264175</td>\n",
       "      <td>1.658304</td>\n",
       "    </tr>\n",
       "    <tr>\n",
       "      <th>9</th>\n",
       "      <td>100</td>\n",
       "      <td>152.941266</td>\n",
       "      <td>0.264338</td>\n",
       "      <td>1.691795</td>\n",
       "    </tr>\n",
       "  </tbody>\n",
       "</table>\n",
       "</div>"
      ],
      "text/plain": [
       "   block  total_time  train_rmse  test_rmse\n",
       "0     10   65.078642    0.264530   1.778208\n",
       "1     20   73.768466    0.264564   1.888263\n",
       "2     30   85.331348    0.263867   1.715384\n",
       "3     40   96.819909    0.264613   1.744884\n",
       "4     50  105.858956    0.264455   1.725143\n",
       "5     60  114.476650    0.264651   1.834391\n",
       "6     70  125.326900    0.263977   1.722416\n",
       "7     80  135.865527    0.264661   1.845172\n",
       "8     90  145.385415    0.264175   1.658304\n",
       "9    100  152.941266    0.264338   1.691795"
      ]
     },
     "execution_count": 17,
     "metadata": {},
     "output_type": "execute_result"
    }
   ],
   "source": [
    "user_blocks"
   ]
  },
  {
   "cell_type": "code",
   "execution_count": 18,
   "metadata": {
    "scrolled": true
   },
   "outputs": [
    {
     "data": {
      "image/png": "[encoded data removed]",
      "text/plain": [
       "<Figure size 576x432 with 1 Axes>"
      ]
     },
     "metadata": {
      "needs_background": "light"
     },
     "output_type": "display_data"
    }
   ],
   "source": [
    "plt.figure(figsize=(8,6))\n",
    "plt.plot(user_blocks.block, user_blocks.total_time)\n",
    "plt.plot(user_blocks.block, user_blocks.total_time)\n",
    "plt.ylabel('Time Taken')\n",
    "plt.xlabel('Number of User Blocks')\n",
    "plt.title('Time over Number of User Blocks')\n",
    "plt.savefig(r'./figures/userBlocks.png')"
   ]
  },
  {
   "cell_type": "code",
   "execution_count": 19,
   "metadata": {},
   "outputs": [
    {
     "name": "stdout",
     "output_type": "stream",
     "text": [
      "10\n",
      "0.2645295466876586 1.7782079294275652 65.72912430763245\n",
      "20\n",
      "0.2645295466876586 1.7782079294275652 75.12798643112183\n",
      "30\n",
      "0.2645295466876586 1.7782079294275652 86.5610716342926\n",
      "40\n",
      "0.2645295466876586 1.7782079294275652 96.47478914260864\n",
      "50\n",
      "0.2645295466876586 1.7782079294275652 105.18139696121216\n",
      "60\n",
      "0.2645295466876586 1.7782079294275652 115.67884135246277\n",
      "70\n",
      "0.2645295466876586 1.7782079294275652 122.94124221801758\n",
      "80\n",
      "0.2645295466876586 1.7782079294275652 134.0386929512024\n",
      "90\n",
      "0.2645295466876586 1.7782079294275652 142.4848599433899\n",
      "100\n",
      "0.2645295466876586 1.7782079294275652 152.35680103302002\n"
     ]
    }
   ],
   "source": [
    "results = []\n",
    "for block in range(10,110,10):\n",
    "    print(block)\n",
    "    start_time = time.time()\n",
    "    als = ALS(maxIter=20, \n",
    "              implicitPrefs=False,\n",
    "              regParam=.25,\n",
    "              userCol=\"userIndex\", \n",
    "              itemCol=\"itemIndex\",\n",
    "              numUserBlocks=10, #parallel\n",
    "              numItemBlocks=block, #parallel\n",
    "              ratingCol=\"rating\",\n",
    "              coldStartStrategy=\"drop\")\n",
    "\n",
    "    model = als.fit(training)\n",
    "\n",
    "    predictions = model.transform(test)\n",
    "    predictions_train = model.transform(training)\n",
    "\n",
    "    test_rmse = evaluator.evaluate(predictions)\n",
    "    train_rmse = evaluator.evaluate(predictions_train)\n",
    "    \n",
    "    total_time = time.time() - start_time\n",
    "    \n",
    "    results.append([block, total_time, train_rmse, test_rmse])\n",
    "\n",
    "    print(train_rmse, test_rmse, total_time)\n",
    "    \n",
    "item_blocks = pd.DataFrame(results, columns = ['block', 'total_time', 'train_rmse', 'test_rmse'])"
   ]
  },
  {
   "cell_type": "code",
   "execution_count": 20,
   "metadata": {},
   "outputs": [
    {
     "data": {
      "text/html": [
       "<div>\n",
       "<style scoped>\n",
       "    .dataframe tbody tr th:only-of-type {\n",
       "        vertical-align: middle;\n",
       "    }\n",
       "\n",
       "    .dataframe tbody tr th {\n",
       "        vertical-align: top;\n",
       "    }\n",
       "\n",
       "    .dataframe thead th {\n",
       "        text-align: right;\n",
       "    }\n",
       "</style>\n",
       "<table border=\"1\" class=\"dataframe\">\n",
       "  <thead>\n",
       "    <tr style=\"text-align: right;\">\n",
       "      <th></th>\n",
       "      <th>block</th>\n",
       "      <th>total_time</th>\n",
       "      <th>train_rmse</th>\n",
       "      <th>test_rmse</th>\n",
       "    </tr>\n",
       "  </thead>\n",
       "  <tbody>\n",
       "    <tr>\n",
       "      <th>0</th>\n",
       "      <td>10</td>\n",
       "      <td>65.729124</td>\n",
       "      <td>0.26453</td>\n",
       "      <td>1.778208</td>\n",
       "    </tr>\n",
       "    <tr>\n",
       "      <th>1</th>\n",
       "      <td>20</td>\n",
       "      <td>75.127986</td>\n",
       "      <td>0.26453</td>\n",
       "      <td>1.778208</td>\n",
       "    </tr>\n",
       "    <tr>\n",
       "      <th>2</th>\n",
       "      <td>30</td>\n",
       "      <td>86.561072</td>\n",
       "      <td>0.26453</td>\n",
       "      <td>1.778208</td>\n",
       "    </tr>\n",
       "    <tr>\n",
       "      <th>3</th>\n",
       "      <td>40</td>\n",
       "      <td>96.474789</td>\n",
       "      <td>0.26453</td>\n",
       "      <td>1.778208</td>\n",
       "    </tr>\n",
       "    <tr>\n",
       "      <th>4</th>\n",
       "      <td>50</td>\n",
       "      <td>105.181397</td>\n",
       "      <td>0.26453</td>\n",
       "      <td>1.778208</td>\n",
       "    </tr>\n",
       "    <tr>\n",
       "      <th>5</th>\n",
       "      <td>60</td>\n",
       "      <td>115.678841</td>\n",
       "      <td>0.26453</td>\n",
       "      <td>1.778208</td>\n",
       "    </tr>\n",
       "    <tr>\n",
       "      <th>6</th>\n",
       "      <td>70</td>\n",
       "      <td>122.941242</td>\n",
       "      <td>0.26453</td>\n",
       "      <td>1.778208</td>\n",
       "    </tr>\n",
       "    <tr>\n",
       "      <th>7</th>\n",
       "      <td>80</td>\n",
       "      <td>134.038693</td>\n",
       "      <td>0.26453</td>\n",
       "      <td>1.778208</td>\n",
       "    </tr>\n",
       "    <tr>\n",
       "      <th>8</th>\n",
       "      <td>90</td>\n",
       "      <td>142.484860</td>\n",
       "      <td>0.26453</td>\n",
       "      <td>1.778208</td>\n",
       "    </tr>\n",
       "    <tr>\n",
       "      <th>9</th>\n",
       "      <td>100</td>\n",
       "      <td>152.356801</td>\n",
       "      <td>0.26453</td>\n",
       "      <td>1.778208</td>\n",
       "    </tr>\n",
       "  </tbody>\n",
       "</table>\n",
       "</div>"
      ],
      "text/plain": [
       "   block  total_time  train_rmse  test_rmse\n",
       "0     10   65.729124     0.26453   1.778208\n",
       "1     20   75.127986     0.26453   1.778208\n",
       "2     30   86.561072     0.26453   1.778208\n",
       "3     40   96.474789     0.26453   1.778208\n",
       "4     50  105.181397     0.26453   1.778208\n",
       "5     60  115.678841     0.26453   1.778208\n",
       "6     70  122.941242     0.26453   1.778208\n",
       "7     80  134.038693     0.26453   1.778208\n",
       "8     90  142.484860     0.26453   1.778208\n",
       "9    100  152.356801     0.26453   1.778208"
      ]
     },
     "execution_count": 20,
     "metadata": {},
     "output_type": "execute_result"
    }
   ],
   "source": [
    "item_blocks"
   ]
  },
  {
   "cell_type": "code",
   "execution_count": 21,
   "metadata": {},
   "outputs": [
    {
     "data": {
      "image/png": "[encoded data removed]",
      "text/plain": [
       "<Figure size 576x432 with 1 Axes>"
      ]
     },
     "metadata": {
      "needs_background": "light"
     },
     "output_type": "display_data"
    }
   ],
   "source": [
    "plt.figure(figsize=(8,6))\n",
    "plt.plot(item_blocks.block, item_blocks.total_time)\n",
    "plt.plot(item_blocks.block, item_blocks.total_time)\n",
    "plt.ylabel('Time Taken')\n",
    "plt.xlabel('Number of Item Blocks')\n",
    "plt.title('Time over Number of Item Blocks')\n",
    "plt.savefig(r'./figures/itemBlocks.png')"
   ]
  },
  {
   "cell_type": "code",
   "execution_count": 22,
   "metadata": {},
   "outputs": [
    {
     "name": "stdout",
     "output_type": "stream",
     "text": [
      "+---------+---------+------+\n",
      "|userIndex|itemIndex|rating|\n",
      "+---------+---------+------+\n",
      "|9386.0   |463.0    |5     |\n",
      "|9386.0   |53.0     |4     |\n",
      "+---------+---------+------+\n",
      "\n"
     ]
    }
   ],
   "source": [
    "def topLikes(dataframe,userIndex,limit):\n",
    "    likes_df = dataframe.filter(dataframe.userIndex==userIndex)\\\n",
    "    .sort(dataframe.rating.desc())\\\n",
    "    .select(dataframe.userIndex,dataframe.itemIndex,dataframe.rating)\\\n",
    "    .limit(limit)\n",
    "    return likes_df\n",
    "# display top liked items for a user\n",
    "topLikes(df,9386,10).show(truncate=False)"
   ]
  },
  {
   "cell_type": "code",
   "execution_count": 23,
   "metadata": {},
   "outputs": [
    {
     "data": {
      "text/plain": [
       "DataFrame[itemIndex: array<int>, rating: array<float>]"
      ]
     },
     "execution_count": 23,
     "metadata": {},
     "output_type": "execute_result"
    }
   ],
   "source": [
    "def recommendedItems(userIndex,n):\n",
    "    test = model.recommendForAllUsers(n)\\\n",
    "        .filter(col('userIndex')==userIndex)\\\n",
    "        .select([\"recommendations.itemIndex\",\"recommendations.rating\"])\n",
    "        #.collect()\n",
    "        #\\\n",
    "        \n",
    "    return test\n",
    "# display top n recommended artists for user 2062243\n",
    "recs = recommendedItems(9386,6)\n",
    "recs"
   ]
  },
  {
   "cell_type": "code",
   "execution_count": 24,
   "metadata": {},
   "outputs": [
    {
     "name": "stdout",
     "output_type": "stream",
     "text": [
      "+---------+\n",
      "|itemIndex|\n",
      "+---------+\n",
      "|       53|\n",
      "|      878|\n",
      "|      236|\n",
      "|     1487|\n",
      "|      295|\n",
      "|      226|\n",
      "+---------+\n",
      "\n"
     ]
    }
   ],
   "source": [
    "nrecommendations = recs\\\n",
    "    .withColumn(\"rec_exp\", explode(\"itemIndex\"))\\\n",
    "    .select(col('rec_exp'))\\\n",
    "    .withColumnRenamed('rec_exp', 'itemIndex')\n",
    "\n",
    "nrecommendations.limit(10).show()"
   ]
  },
  {
   "cell_type": "markdown",
   "metadata": {},
   "source": [
    "Make df for item index"
   ]
  },
  {
   "cell_type": "code",
   "execution_count": 25,
   "metadata": {},
   "outputs": [],
   "source": [
    "item_df = df.groupby(\"itemIndex\")\\\n",
    "  .agg(F.min(\"item\"))\\\n",
    "  .withColumnRenamed('min(item)', 'item')"
   ]
  },
  {
   "cell_type": "code",
   "execution_count": 26,
   "metadata": {},
   "outputs": [
    {
     "name": "stdout",
     "output_type": "stream",
     "text": [
      "root\n",
      " |-- itemIndex: integer (nullable = true)\n",
      "\n"
     ]
    }
   ],
   "source": [
    "nrecommendations.printSchema()"
   ]
  },
  {
   "cell_type": "code",
   "execution_count": 27,
   "metadata": {},
   "outputs": [
    {
     "name": "stdout",
     "output_type": "stream",
     "text": [
      "+---------+----------+\n",
      "|itemIndex|      item|\n",
      "+---------+----------+\n",
      "|    299.0|B00FTGF3P2|\n",
      "|    305.0|B00Q5BN3P2|\n",
      "|    496.0|B00EPLT7NQ|\n",
      "|    558.0|B014LMWGCM|\n",
      "|    596.0|B004LLILL4|\n",
      "|    692.0|B00N47FXDK|\n",
      "|    769.0|B0052A21O6|\n",
      "|    934.0|B002MS7BPA|\n",
      "|   1051.0|B003XNIBTS|\n",
      "|    147.0|B00G3LBDDS|\n",
      "+---------+----------+\n",
      "only showing top 10 rows\n",
      "\n"
     ]
    }
   ],
   "source": [
    "item_df.show(10)"
   ]
  },
  {
   "cell_type": "markdown",
   "metadata": {},
   "source": [
    "## Merge items into recommendations"
   ]
  },
  {
   "cell_type": "code",
   "execution_count": 28,
   "metadata": {},
   "outputs": [
    {
     "data": {
      "text/html": [
       "<div>\n",
       "<style scoped>\n",
       "    .dataframe tbody tr th:only-of-type {\n",
       "        vertical-align: middle;\n",
       "    }\n",
       "\n",
       "    .dataframe tbody tr th {\n",
       "        vertical-align: top;\n",
       "    }\n",
       "\n",
       "    .dataframe thead th {\n",
       "        text-align: right;\n",
       "    }\n",
       "</style>\n",
       "<table border=\"1\" class=\"dataframe\">\n",
       "  <thead>\n",
       "    <tr style=\"text-align: right;\">\n",
       "      <th></th>\n",
       "      <th>itemIndex</th>\n",
       "      <th>item</th>\n",
       "    </tr>\n",
       "  </thead>\n",
       "  <tbody>\n",
       "    <tr>\n",
       "      <th>0</th>\n",
       "      <td>53</td>\n",
       "      <td>B00MV9H6VY</td>\n",
       "    </tr>\n",
       "    <tr>\n",
       "      <th>1</th>\n",
       "      <td>878</td>\n",
       "      <td>B015NKJCJ6</td>\n",
       "    </tr>\n",
       "    <tr>\n",
       "      <th>2</th>\n",
       "      <td>236</td>\n",
       "      <td>B00MV9GTFS</td>\n",
       "    </tr>\n",
       "    <tr>\n",
       "      <th>3</th>\n",
       "      <td>1487</td>\n",
       "      <td>B00OD4DX3U</td>\n",
       "    </tr>\n",
       "    <tr>\n",
       "      <th>4</th>\n",
       "      <td>295</td>\n",
       "      <td>B00MV9F2QU</td>\n",
       "    </tr>\n",
       "    <tr>\n",
       "      <th>5</th>\n",
       "      <td>226</td>\n",
       "      <td>B00MV9OQYO</td>\n",
       "    </tr>\n",
       "  </tbody>\n",
       "</table>\n",
       "</div>"
      ],
      "text/plain": [
       "   itemIndex        item\n",
       "0         53  B00MV9H6VY\n",
       "1        878  B015NKJCJ6\n",
       "2        236  B00MV9GTFS\n",
       "3       1487  B00OD4DX3U\n",
       "4        295  B00MV9F2QU\n",
       "5        226  B00MV9OQYO"
      ]
     },
     "execution_count": 28,
     "metadata": {},
     "output_type": "execute_result"
    }
   ],
   "source": [
    "nrecommendations_df = nrecommendations.join(item_df, on='itemIndex').toPandas()\n",
    "nrecommendations_df"
   ]
  },
  {
   "cell_type": "markdown",
   "metadata": {},
   "source": [
    "## Merge metadata into recommendations"
   ]
  },
  {
   "cell_type": "code",
   "execution_count": 29,
   "metadata": {},
   "outputs": [
    {
     "ename": "NameError",
     "evalue": "name 'meta_df' is not defined",
     "output_type": "error",
     "traceback": [
      "\u001b[0;31m---------------------------------------------------------------------------\u001b[0m",
      "\u001b[0;31mNameError\u001b[0m                                 Traceback (most recent call last)",
      "\u001b[0;32m<ipython-input-29-e9f4b1a7012d>\u001b[0m in \u001b[0;36m<module>\u001b[0;34m\u001b[0m\n\u001b[0;32m----> 1\u001b[0;31m \u001b[0mmeta_df\u001b[0m\u001b[0;34m.\u001b[0m\u001b[0mimage\u001b[0m\u001b[0;34m.\u001b[0m\u001b[0mloc\u001b[0m\u001b[0;34m[\u001b[0m\u001b[0;36m4\u001b[0m\u001b[0;34m]\u001b[0m\u001b[0;34m\u001b[0m\u001b[0;34m\u001b[0m\u001b[0m\n\u001b[0m",
      "\u001b[0;31mNameError\u001b[0m: name 'meta_df' is not defined"
     ]
    }
   ],
   "source": [
    "meta_df.image.loc[4]"
   ]
  },
  {
   "cell_type": "code",
   "execution_count": null,
   "metadata": {},
   "outputs": [],
   "source": [
    "meta_df = pd.read_csv(r'./meta_data/meta_Gift_Cards.csv').rename(columns={'asin':'item'})"
   ]
  },
  {
   "cell_type": "code",
   "execution_count": null,
   "metadata": {},
   "outputs": [],
   "source": [
    "meta_df"
   ]
  },
  {
   "cell_type": "code",
   "execution_count": null,
   "metadata": {
    "scrolled": true
   },
   "outputs": [],
   "source": [
    "nrecommendations_df"
   ]
  },
  {
   "cell_type": "code",
   "execution_count": null,
   "metadata": {
    "scrolled": true
   },
   "outputs": [],
   "source": [
    "recs_df = nrecommendations_df.merge(meta_df)\n",
    "recs_df"
   ]
  },
  {
   "cell_type": "code",
   "execution_count": null,
   "metadata": {},
   "outputs": [],
   "source": [
    "def print_recs(recs_df):\n",
    "    print('Recommendations:')\n",
    "    print('-'*16, end='\\n\\n')\n",
    "    for i, row in recs_df.iterrows():\n",
    "        print(f' {i+1}. {row.title}')\n",
    "        print(' '*5, 'https://www.amazon.com/dp/{}'.format(row['item']))\n",
    "    #     try:\n",
    "    #         print(row.image)\n",
    "    #         #Image(url=row.image)\n",
    "    #     except:\n",
    "    #         print(\"no pic available\")\n",
    "    \n",
    "print_recs(recs_df)"
   ]
  },
  {
   "cell_type": "markdown",
   "metadata": {},
   "source": [
    "Todo: \n",
    "- Make function for displaying toplikes for a user. This should pull the names of items.\n",
    "- Display top recommendations for user (also pull names of items)\n",
    "- Create function to pull name of item given item id. Sort by itemid to make it easier to extract names.\n",
    "- plot histogram of ratings"
   ]
  },
  {
   "cell_type": "code",
   "execution_count": 3,
   "metadata": {},
   "outputs": [
    {
     "name": "stdout",
     "output_type": "stream",
     "text": [
      "Category\n"
     ]
    },
    {
     "data": {
      "application/vnd.jupyter.widget-view+json": {
       "model_id": "",
       "version_major": 2,
       "version_minor": 0
      },
      "text/plain": [
       "Dropdown(options=('Software', 'Automotive', 'Movies_and_TV', 'Industrial_and_Scientific', 'Grocery_and_Gourmet…"
      ]
     },
     "metadata": {},
     "output_type": "display_data"
    },
    {
     "name": "stdout",
     "output_type": "stream",
     "text": [
      "\n",
      "Userid\n"
     ]
    },
    {
     "data": {
      "application/vnd.jupyter.widget-view+json": {
       "model_id": "",
       "version_major": 2,
       "version_minor": 0
      },
      "text/plain": [
       "BoundedFloatText(value=5.0, max=1000000.0, step=1.0)"
      ]
     },
     "metadata": {},
     "output_type": "display_data"
    },
    {
     "data": {
      "application/vnd.jupyter.widget-view+json": {
       "model_id": "",
       "version_major": 2,
       "version_minor": 0
      },
      "text/plain": [
       "Button(description='Recommend', style=ButtonStyle())"
      ]
     },
     "metadata": {},
     "output_type": "display_data"
    },
    {
     "name": "stdout",
     "output_type": "stream",
     "text": [
      "Loading Data...\n"
     ]
    },
    {
     "ename": "NameError",
     "evalue": "name 'load_dataset' is not defined",
     "output_type": "error",
     "traceback": [
      "\u001b[0;31m---------------------------------------------------------------------------\u001b[0m",
      "\u001b[0;31mNameError\u001b[0m                                 Traceback (most recent call last)",
      "\u001b[0;32m<ipython-input-3-b82055d6c47f>\u001b[0m in \u001b[0;36mbtn_eventhandler\u001b[0;34m(obj)\u001b[0m\n\u001b[1;32m     33\u001b[0m     \u001b[0mprint\u001b[0m\u001b[0;34m(\u001b[0m\u001b[0;34m'Loading Data...'\u001b[0m\u001b[0;34m)\u001b[0m\u001b[0;34m\u001b[0m\u001b[0;34m\u001b[0m\u001b[0m\n\u001b[1;32m     34\u001b[0m     \u001b[0mpath\u001b[0m \u001b[0;34m=\u001b[0m \u001b[0mdropdown_category\u001b[0m\u001b[0;34m.\u001b[0m\u001b[0mvalue\u001b[0m \u001b[0;34m+\u001b[0m\u001b[0;34m'.csv'\u001b[0m\u001b[0;34m\u001b[0m\u001b[0;34m\u001b[0m\u001b[0m\n\u001b[0;32m---> 35\u001b[0;31m     \u001b[0mdf\u001b[0m \u001b[0;34m=\u001b[0m \u001b[0mload_dataset\u001b[0m\u001b[0;34m(\u001b[0m\u001b[0mpath\u001b[0m\u001b[0;34m)\u001b[0m\u001b[0;34m\u001b[0m\u001b[0;34m\u001b[0m\u001b[0m\n\u001b[0m\u001b[1;32m     36\u001b[0m \u001b[0;34m\u001b[0m\u001b[0m\n\u001b[1;32m     37\u001b[0m     \u001b[0mtest_fraction\u001b[0m \u001b[0;34m=\u001b[0m \u001b[0;36m.35\u001b[0m\u001b[0;34m\u001b[0m\u001b[0;34m\u001b[0m\u001b[0m\n",
      "\u001b[0;31mNameError\u001b[0m: name 'load_dataset' is not defined"
     ]
    }
   ],
   "source": [
    "def get_fnames(path=r'./ratings_data'):\n",
    "    fnames = [f.split('.')[0] for f in os.listdir(path) if f.endswith('.csv')]\n",
    "    return fnames\n",
    "\n",
    "fnames = get_fnames()\n",
    "dropdown_category = widgets.Dropdown(options = fnames)\n",
    "\n",
    "\n",
    "#create display\n",
    "output_recs = widgets.Output()\n",
    "\n",
    "def dropdown_year_eventhandler(change):\n",
    "    output_recs.clear_output()\n",
    "    if (change.new == 'Software'):\n",
    "        display(df_london)\n",
    "    else:\n",
    "        display(df_london[df_london.year == change.new])\n",
    "        \n",
    "        \n",
    "#get user id\n",
    "userid_input = widgets.BoundedFloatText(\n",
    "min=0, max=1000000, value=5, step=1)\n",
    "\n",
    "# def userid_input_eventhandler(change):\n",
    "#     common_filtering(dropdown_year.value, dropdown_purpose.value, \n",
    "#                      change.new)\n",
    "# userid_input.observe(bounded_num_eventhandler, names='value')\n",
    "\n",
    "btn = widgets.Button(description='Recommend')\n",
    "\n",
    "def btn_eventhandler(obj):\n",
    "    #Load data\n",
    "    print('Loading Data...')\n",
    "    path = dropdown_category.value +'.csv'\n",
    "    df = load_dataset(path)\n",
    "    \n",
    "    test_fraction = .35\n",
    "    training, test = df.randomSplit([1-test_fraction, test_fraction])\n",
    "    \n",
    "    print('Fitting Data...')\n",
    "    model = als.fit(training)\n",
    "    \n",
    "    \n",
    "    \n",
    "    #output\n",
    "    title = f'{dropdown_category.value} recommendations for user {int(userid_input.value)}:'\n",
    "    print(title)\n",
    "    print('-'*len(title))\n",
    "    \n",
    "    \n",
    "\n",
    "print('Category')\n",
    "display(dropdown_category)\n",
    "print('\\nUserid')\n",
    "display(userid_input)\n",
    "\n",
    "display(btn)\n",
    "btn.on_click(btn_eventhandler)\n"
   ]
  }
 ],
 "metadata": {
  "kernelspec": {
   "display_name": "Python 3",
   "language": "python",
   "name": "python3"
  },
  "language_info": {
   "codemirror_mode": {
    "name": "ipython",
    "version": 3
   },
   "file_extension": ".py",
   "mimetype": "text/x-python",
   "name": "python",
   "nbconvert_exporter": "python",
   "pygments_lexer": "ipython3",
   "version": "3.8.3"
  }
 },
 "nbformat": 4,
 "nbformat_minor": 4
}
