{
 "cells": [
  {
   "cell_type": "markdown",
   "metadata": {},
   "source": [
    "# User-based Collaborative Filtering"
   ]
  },
  {
   "cell_type": "code",
   "execution_count": 1,
   "metadata": {},
   "outputs": [],
   "source": [
    "import pandas as pd\n",
    "import gzip\n",
    "import json\n",
    "from math import sqrt\n",
    "from scipy.stats import pearsonr\n",
    "import warnings\n",
    "import matplotlib.pyplot as plt\n",
    "warnings.filterwarnings('ignore')"
   ]
  },
  {
   "cell_type": "markdown",
   "metadata": {},
   "source": [
    "## Load in ratings data"
   ]
  },
  {
   "cell_type": "code",
   "execution_count": 2,
   "metadata": {},
   "outputs": [
    {
     "data": {
      "text/html": [
       "<div>\n",
       "<style scoped>\n",
       "    .dataframe tbody tr th:only-of-type {\n",
       "        vertical-align: middle;\n",
       "    }\n",
       "\n",
       "    .dataframe tbody tr th {\n",
       "        vertical-align: top;\n",
       "    }\n",
       "\n",
       "    .dataframe thead th {\n",
       "        text-align: right;\n",
       "    }\n",
       "</style>\n",
       "<table border=\"1\" class=\"dataframe\">\n",
       "  <thead>\n",
       "    <tr style=\"text-align: right;\">\n",
       "      <th></th>\n",
       "      <th>overall</th>\n",
       "      <th>asin</th>\n",
       "      <th>reviewerID</th>\n",
       "    </tr>\n",
       "  </thead>\n",
       "  <tbody>\n",
       "    <tr>\n",
       "      <th>350131</th>\n",
       "      <td>5.0</td>\n",
       "      <td>B01617VNBK</td>\n",
       "      <td>A00577669P2XCLU956L8</td>\n",
       "    </tr>\n",
       "    <tr>\n",
       "      <th>262198</th>\n",
       "      <td>5.0</td>\n",
       "      <td>B00MCLGAZ4</td>\n",
       "      <td>A00621707WIM8QF2CT5O</td>\n",
       "    </tr>\n",
       "    <tr>\n",
       "      <th>301851</th>\n",
       "      <td>5.0</td>\n",
       "      <td>B00SX73LIK</td>\n",
       "      <td>A0065811S4ANKB4TYHII</td>\n",
       "    </tr>\n",
       "    <tr>\n",
       "      <th>428464</th>\n",
       "      <td>4.0</td>\n",
       "      <td>B007A7JSMM</td>\n",
       "      <td>A0086201G57OY58MG97W</td>\n",
       "    </tr>\n",
       "    <tr>\n",
       "      <th>360077</th>\n",
       "      <td>4.0</td>\n",
       "      <td>B019QVZDSC</td>\n",
       "      <td>A0086201G57OY58MG97W</td>\n",
       "    </tr>\n",
       "  </tbody>\n",
       "</table>\n",
       "</div>"
      ],
      "text/plain": [
       "        overall        asin            reviewerID\n",
       "350131      5.0  B01617VNBK  A00577669P2XCLU956L8\n",
       "262198      5.0  B00MCLGAZ4  A00621707WIM8QF2CT5O\n",
       "301851      5.0  B00SX73LIK  A0065811S4ANKB4TYHII\n",
       "428464      4.0  B007A7JSMM  A0086201G57OY58MG97W\n",
       "360077      4.0  B019QVZDSC  A0086201G57OY58MG97W"
      ]
     },
     "execution_count": 2,
     "metadata": {},
     "output_type": "execute_result"
    }
   ],
   "source": [
    "df = pd.read_csv(r'./ratings_data/Software.csv',names = ['asin','reviewerID','overall','timestamp'])\n",
    "#Only keep 3 columns\n",
    "df = df[['overall', 'asin', 'reviewerID']].sort_values('reviewerID')\n",
    "df.head()"
   ]
  },
  {
   "cell_type": "markdown",
   "metadata": {},
   "source": [
    "## Introduce input User with ratings on products"
   ]
  },
  {
   "cell_type": "code",
   "execution_count": 3,
   "metadata": {},
   "outputs": [
    {
     "data": {
      "text/html": [
       "<div>\n",
       "<style scoped>\n",
       "    .dataframe tbody tr th:only-of-type {\n",
       "        vertical-align: middle;\n",
       "    }\n",
       "\n",
       "    .dataframe tbody tr th {\n",
       "        vertical-align: top;\n",
       "    }\n",
       "\n",
       "    .dataframe thead th {\n",
       "        text-align: right;\n",
       "    }\n",
       "</style>\n",
       "<table border=\"1\" class=\"dataframe\">\n",
       "  <thead>\n",
       "    <tr style=\"text-align: right;\">\n",
       "      <th></th>\n",
       "      <th>asin</th>\n",
       "      <th>overall</th>\n",
       "    </tr>\n",
       "  </thead>\n",
       "  <tbody>\n",
       "    <tr>\n",
       "      <th>0</th>\n",
       "      <td>B00UB76290</td>\n",
       "      <td>5.0</td>\n",
       "    </tr>\n",
       "    <tr>\n",
       "      <th>1</th>\n",
       "      <td>B00CTTEKJW</td>\n",
       "      <td>3.5</td>\n",
       "    </tr>\n",
       "    <tr>\n",
       "      <th>2</th>\n",
       "      <td>B00NG7JVSQ</td>\n",
       "      <td>2.0</td>\n",
       "    </tr>\n",
       "    <tr>\n",
       "      <th>3</th>\n",
       "      <td>B00MCLGAZ4</td>\n",
       "      <td>4.0</td>\n",
       "    </tr>\n",
       "    <tr>\n",
       "      <th>4</th>\n",
       "      <td>B00H9A60O4</td>\n",
       "      <td>4.0</td>\n",
       "    </tr>\n",
       "    <tr>\n",
       "      <th>5</th>\n",
       "      <td>B00U1UELFE</td>\n",
       "      <td>1.0</td>\n",
       "    </tr>\n",
       "    <tr>\n",
       "      <th>6</th>\n",
       "      <td>B00D9ILKGS</td>\n",
       "      <td>4.5</td>\n",
       "    </tr>\n",
       "    <tr>\n",
       "      <th>7</th>\n",
       "      <td>B019QVZDSC</td>\n",
       "      <td>2.0</td>\n",
       "    </tr>\n",
       "  </tbody>\n",
       "</table>\n",
       "</div>"
      ],
      "text/plain": [
       "         asin  overall\n",
       "0  B00UB76290      5.0\n",
       "1  B00CTTEKJW      3.5\n",
       "2  B00NG7JVSQ      2.0\n",
       "3  B00MCLGAZ4      4.0\n",
       "4  B00H9A60O4      4.0\n",
       "5  B00U1UELFE      1.0\n",
       "6  B00D9ILKGS      4.5\n",
       "7  B019QVZDSC      2.0"
      ]
     },
     "execution_count": 3,
     "metadata": {},
     "output_type": "execute_result"
    }
   ],
   "source": [
    "#use a user's ratings (below is an example)\n",
    "userInput = [\n",
    "            {'asin':'B00UB76290', 'overall':5},\n",
    "            {'asin':'B00CTTEKJW', 'overall':3.5},\n",
    "            {'asin':'B00NG7JVSQ', 'overall':2},\n",
    "            {'asin':'B00MCLGAZ4', 'overall': 4},\n",
    "            {'asin':'B00H9A60O4', 'overall': 4},\n",
    "            {'asin':'B00U1UELFE', 'overall': 1},\n",
    "            {'asin':'B00D9ILKGS', 'overall': 4.5},\n",
    "            {'asin':'B019QVZDSC', 'overall': 2},\n",
    "         ]\n",
    "\n",
    "inputItems = pd.DataFrame(userInput)\n",
    "inputItems"
   ]
  },
  {
   "cell_type": "markdown",
   "metadata": {},
   "source": [
    "## Filter out ratings data to only include ratings of products reviewed by our input User"
   ]
  },
  {
   "cell_type": "code",
   "execution_count": 4,
   "metadata": {},
   "outputs": [
    {
     "data": {
      "text/html": [
       "<div>\n",
       "<style scoped>\n",
       "    .dataframe tbody tr th:only-of-type {\n",
       "        vertical-align: middle;\n",
       "    }\n",
       "\n",
       "    .dataframe tbody tr th {\n",
       "        vertical-align: top;\n",
       "    }\n",
       "\n",
       "    .dataframe thead th {\n",
       "        text-align: right;\n",
       "    }\n",
       "</style>\n",
       "<table border=\"1\" class=\"dataframe\">\n",
       "  <thead>\n",
       "    <tr style=\"text-align: right;\">\n",
       "      <th></th>\n",
       "      <th>overall</th>\n",
       "      <th>asin</th>\n",
       "      <th>reviewerID</th>\n",
       "    </tr>\n",
       "  </thead>\n",
       "  <tbody>\n",
       "    <tr>\n",
       "      <th>262198</th>\n",
       "      <td>5.0</td>\n",
       "      <td>B00MCLGAZ4</td>\n",
       "      <td>A00621707WIM8QF2CT5O</td>\n",
       "    </tr>\n",
       "    <tr>\n",
       "      <th>360077</th>\n",
       "      <td>4.0</td>\n",
       "      <td>B019QVZDSC</td>\n",
       "      <td>A0086201G57OY58MG97W</td>\n",
       "    </tr>\n",
       "    <tr>\n",
       "      <th>239111</th>\n",
       "      <td>5.0</td>\n",
       "      <td>B00H9A60O4</td>\n",
       "      <td>A0101607BMUAQ65AR9LL</td>\n",
       "    </tr>\n",
       "    <tr>\n",
       "      <th>303244</th>\n",
       "      <td>2.0</td>\n",
       "      <td>B00U1UELFE</td>\n",
       "      <td>A01344607GRFTG6SU5L6</td>\n",
       "    </tr>\n",
       "    <tr>\n",
       "      <th>436173</th>\n",
       "      <td>1.0</td>\n",
       "      <td>B00D9ILKGS</td>\n",
       "      <td>A0135824JBPU8ADCLM59</td>\n",
       "    </tr>\n",
       "  </tbody>\n",
       "</table>\n",
       "</div>"
      ],
      "text/plain": [
       "        overall        asin            reviewerID\n",
       "262198      5.0  B00MCLGAZ4  A00621707WIM8QF2CT5O\n",
       "360077      4.0  B019QVZDSC  A0086201G57OY58MG97W\n",
       "239111      5.0  B00H9A60O4  A0101607BMUAQ65AR9LL\n",
       "303244      2.0  B00U1UELFE  A01344607GRFTG6SU5L6\n",
       "436173      1.0  B00D9ILKGS  A0135824JBPU8ADCLM59"
      ]
     },
     "execution_count": 4,
     "metadata": {},
     "output_type": "execute_result"
    }
   ],
   "source": [
    "#Filtering out users that have rated products that the input has rated and storing it\n",
    "userSubset = df[df['asin'].isin(inputItems['asin'].tolist())]\n",
    "userSubset.head()"
   ]
  },
  {
   "cell_type": "markdown",
   "metadata": {},
   "source": [
    "## Group ratings by users, and compare (using correlation) to our input User\n",
    "\n",
    "## Compute similarity index"
   ]
  },
  {
   "cell_type": "code",
   "execution_count": 5,
   "metadata": {},
   "outputs": [],
   "source": [
    "#Group ratings dataset by user\n",
    "grouped = userSubset.groupby('reviewerID')\n",
    "grouped = sorted(grouped,  key=lambda x: len(x[1]), reverse=True)\n",
    "#only keep first 1000 as this is sequential algo\n",
    "grouped = grouped[0:1000]"
   ]
  },
  {
   "cell_type": "code",
   "execution_count": 6,
   "metadata": {},
   "outputs": [],
   "source": [
    "#get pearson corr when comparing user's ratings with our input user\n",
    "pearsonCorrelationList = []\n",
    "inputItems = inputItems.sort_values(by='asin')\n",
    "\n",
    "#group contains items a user has rated\n",
    "for user, group in grouped:\n",
    "    group = group.sort_values(by='asin')\n",
    "    nRatings = len(group)\n",
    "\n",
    "    temp_df = inputItems[inputItems['asin'].isin(group['asin'].tolist())]\n",
    "    nSimilarItems = len(temp_df)\n",
    "    tempRatingList = temp_df['overall'].tolist()\n",
    "    tempGroupList = group['overall'].tolist()\n",
    "    \n",
    "    if nRatings > 1:\n",
    "        try:\n",
    "            #r = calc_corr(tempRatingList, tempGroupList, nRatings)\n",
    "            r = pearsonr(tempRatingList, tempGroupList)[0]\n",
    "            pearsonCorrelationList.append([user, r, nSimilarItems])\n",
    "        except:\n",
    "            pearsonCorrelationList.append([user, 0, -1])\n",
    "\n",
    "pearson_df = pd.DataFrame(pearsonCorrelationList, columns=['reviewerID', 'similarityIndex', 'nSimilarItems'])"
   ]
  },
  {
   "cell_type": "markdown",
   "metadata": {},
   "source": [
    "## Create Weighted rating of potential items using similarity index and rating from users"
   ]
  },
  {
   "cell_type": "code",
   "execution_count": 7,
   "metadata": {},
   "outputs": [
    {
     "data": {
      "text/html": [
       "<div>\n",
       "<style scoped>\n",
       "    .dataframe tbody tr th:only-of-type {\n",
       "        vertical-align: middle;\n",
       "    }\n",
       "\n",
       "    .dataframe tbody tr th {\n",
       "        vertical-align: top;\n",
       "    }\n",
       "\n",
       "    .dataframe thead th {\n",
       "        text-align: right;\n",
       "    }\n",
       "</style>\n",
       "<table border=\"1\" class=\"dataframe\">\n",
       "  <thead>\n",
       "    <tr style=\"text-align: right;\">\n",
       "      <th></th>\n",
       "      <th>reviewerID</th>\n",
       "      <th>similarityIndex</th>\n",
       "      <th>nSimilarItems</th>\n",
       "    </tr>\n",
       "  </thead>\n",
       "  <tbody>\n",
       "    <tr>\n",
       "      <th>1</th>\n",
       "      <td>A1MH90R0ADMIK0</td>\n",
       "      <td>1.000000</td>\n",
       "      <td>3</td>\n",
       "    </tr>\n",
       "    <tr>\n",
       "      <th>3</th>\n",
       "      <td>AZDH08P9ZMWKJ</td>\n",
       "      <td>0.755929</td>\n",
       "      <td>3</td>\n",
       "    </tr>\n",
       "    <tr>\n",
       "      <th>0</th>\n",
       "      <td>A11KZ906QD08C5</td>\n",
       "      <td>0.188982</td>\n",
       "      <td>3</td>\n",
       "    </tr>\n",
       "  </tbody>\n",
       "</table>\n",
       "</div>"
      ],
      "text/plain": [
       "       reviewerID  similarityIndex  nSimilarItems\n",
       "1  A1MH90R0ADMIK0         1.000000              3\n",
       "3   AZDH08P9ZMWKJ         0.755929              3\n",
       "0  A11KZ906QD08C5         0.188982              3"
      ]
     },
     "execution_count": 7,
     "metadata": {},
     "output_type": "execute_result"
    }
   ],
   "source": [
    "#get top users (closest to our users)\n",
    "top_users=pearson_df.loc[(pearson_df.nSimilarItems>=3) & (pearson_df.similarityIndex.notna())].sort_values(by='similarityIndex', ascending=False)[0:50]\n",
    "top_users.head()"
   ]
  },
  {
   "cell_type": "code",
   "execution_count": 8,
   "metadata": {},
   "outputs": [
    {
     "data": {
      "text/html": [
       "<div>\n",
       "<style scoped>\n",
       "    .dataframe tbody tr th:only-of-type {\n",
       "        vertical-align: middle;\n",
       "    }\n",
       "\n",
       "    .dataframe tbody tr th {\n",
       "        vertical-align: top;\n",
       "    }\n",
       "\n",
       "    .dataframe thead th {\n",
       "        text-align: right;\n",
       "    }\n",
       "</style>\n",
       "<table border=\"1\" class=\"dataframe\">\n",
       "  <thead>\n",
       "    <tr style=\"text-align: right;\">\n",
       "      <th></th>\n",
       "      <th>sum_similarityIndex</th>\n",
       "      <th>sum_weightedRating</th>\n",
       "      <th>weighted average recommendation score</th>\n",
       "    </tr>\n",
       "    <tr>\n",
       "      <th>asin</th>\n",
       "      <th></th>\n",
       "      <th></th>\n",
       "      <th></th>\n",
       "    </tr>\n",
       "  </thead>\n",
       "  <tbody>\n",
       "    <tr>\n",
       "      <th>B00UB76290</th>\n",
       "      <td>1.944911</td>\n",
       "      <td>9.724556</td>\n",
       "      <td>5.0</td>\n",
       "    </tr>\n",
       "    <tr>\n",
       "      <th>B0144BWWTW</th>\n",
       "      <td>1.000000</td>\n",
       "      <td>5.000000</td>\n",
       "      <td>5.0</td>\n",
       "    </tr>\n",
       "    <tr>\n",
       "      <th>B00009APNB</th>\n",
       "      <td>0.188982</td>\n",
       "      <td>0.944911</td>\n",
       "      <td>5.0</td>\n",
       "    </tr>\n",
       "    <tr>\n",
       "      <th>B000A9QUT6</th>\n",
       "      <td>0.188982</td>\n",
       "      <td>0.944911</td>\n",
       "      <td>5.0</td>\n",
       "    </tr>\n",
       "    <tr>\n",
       "      <th>B000HCVR3A</th>\n",
       "      <td>0.188982</td>\n",
       "      <td>0.944911</td>\n",
       "      <td>5.0</td>\n",
       "    </tr>\n",
       "  </tbody>\n",
       "</table>\n",
       "</div>"
      ],
      "text/plain": [
       "            sum_similarityIndex  sum_weightedRating  \\\n",
       "asin                                                  \n",
       "B00UB76290             1.944911            9.724556   \n",
       "B0144BWWTW             1.000000            5.000000   \n",
       "B00009APNB             0.188982            0.944911   \n",
       "B000A9QUT6             0.188982            0.944911   \n",
       "B000HCVR3A             0.188982            0.944911   \n",
       "\n",
       "            weighted average recommendation score  \n",
       "asin                                               \n",
       "B00UB76290                                    5.0  \n",
       "B0144BWWTW                                    5.0  \n",
       "B00009APNB                                    5.0  \n",
       "B000A9QUT6                                    5.0  \n",
       "B000HCVR3A                                    5.0  "
      ]
     },
     "execution_count": 8,
     "metadata": {},
     "output_type": "execute_result"
    }
   ],
   "source": [
    "#get other items that top users have rated\n",
    "topUsersRating=top_users.merge(df, on='reviewerID', how='inner')\n",
    "#create weightedRating\n",
    "topUsersRating['weightedRating'] = topUsersRating['similarityIndex']*topUsersRating['overall']\n",
    "recommendation_df = topUsersRating.groupby('asin').sum()[['similarityIndex','weightedRating']]\n",
    "recommendation_df.columns = ['sum_similarityIndex','sum_weightedRating']\n",
    "recommendation_df['weighted average recommendation score'] = recommendation_df['sum_weightedRating']/recommendation_df['sum_similarityIndex']\n",
    "recommendation_df = recommendation_df.sort_values(by=['weighted average recommendation score', 'sum_similarityIndex'], ascending=[False, False])\n",
    "recommendation_df.head()"
   ]
  },
  {
   "cell_type": "code",
   "execution_count": null,
   "metadata": {},
   "outputs": [],
   "source": []
  },
  {
   "cell_type": "code",
   "execution_count": null,
   "metadata": {},
   "outputs": [],
   "source": []
  },
  {
   "cell_type": "code",
   "execution_count": null,
   "metadata": {},
   "outputs": [],
   "source": []
  },
  {
   "cell_type": "code",
   "execution_count": null,
   "metadata": {},
   "outputs": [],
   "source": []
  },
  {
   "cell_type": "code",
   "execution_count": null,
   "metadata": {},
   "outputs": [],
   "source": []
  },
  {
   "cell_type": "code",
   "execution_count": null,
   "metadata": {},
   "outputs": [],
   "source": []
  },
  {
   "cell_type": "code",
   "execution_count": null,
   "metadata": {},
   "outputs": [],
   "source": []
  },
  {
   "cell_type": "code",
   "execution_count": null,
   "metadata": {},
   "outputs": [],
   "source": []
  },
  {
   "cell_type": "code",
   "execution_count": 9,
   "metadata": {},
   "outputs": [
    {
     "data": {
      "text/plain": [
       "(array([10.,  0.,  0.,  0.,  0.,  0.,  0.,  5.,  0.,  0.,  0.,  0.,  0.,\n",
       "         0.,  5.,  1.,  0.,  0.,  0.,  0.,  1.,  0.,  7.,  0.,  0.,  0.,\n",
       "         0.,  0.,  0., 12.]),\n",
       " array([1.        , 1.13333333, 1.26666667, 1.4       , 1.53333333,\n",
       "        1.66666667, 1.8       , 1.93333333, 2.06666667, 2.2       ,\n",
       "        2.33333333, 2.46666667, 2.6       , 2.73333333, 2.86666667,\n",
       "        3.        , 3.13333333, 3.26666667, 3.4       , 3.53333333,\n",
       "        3.66666667, 3.8       , 3.93333333, 4.06666667, 4.2       ,\n",
       "        4.33333333, 4.46666667, 4.6       , 4.73333333, 4.86666667,\n",
       "        5.        ]),\n",
       " <a list of 30 Patch objects>)"
      ]
     },
     "execution_count": 9,
     "metadata": {},
     "output_type": "execute_result"
    },
    {
     "data": {
      "image/png": "[encoded data removed]",
      "text/plain": [
       "<Figure size 432x288 with 1 Axes>"
      ]
     },
     "metadata": {
      "needs_background": "light"
     },
     "output_type": "display_data"
    }
   ],
   "source": [
    "plt.hist(recommendation_df['weighted average recommendation score'], bins=30)"
   ]
  }
 ],
 "metadata": {
  "kernelspec": {
   "display_name": "Python 3",
   "language": "python",
   "name": "python3"
  },
  "language_info": {
   "codemirror_mode": {
    "name": "ipython",
    "version": 3
   },
   "file_extension": ".py",
   "mimetype": "text/x-python",
   "name": "python",
   "nbconvert_exporter": "python",
   "pygments_lexer": "ipython3",
   "version": "3.8.5"
  }
 },
 "nbformat": 4,
 "nbformat_minor": 4
}
