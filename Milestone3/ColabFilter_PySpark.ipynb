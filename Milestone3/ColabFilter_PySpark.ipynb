{
 "cells": [
  {
   "cell_type": "code",
   "execution_count": 1,
   "metadata": {},
   "outputs": [],
   "source": [
    "# import libraries\n",
    "from pyspark import SparkContext\n",
    "from pyspark.ml.recommendation import ALS\n",
    "from pyspark.ml.feature import StringIndexer\n",
    "from pyspark.sql import SparkSession, Row\n",
    "from pyspark.sql.functions import col\n",
    "from pyspark.sql.types import StructType, StructField, IntegerType, StringType\n",
    "appName=\"Collaborative Filtering with PySpark\"\n",
    "# initialize the spark session\n",
    "spark = SparkSession.builder.appName(appName).getOrCreate()\n",
    "# get sparkcontext from the sparksession\n",
    "sc = spark.sparkContext"
   ]
  },
  {
   "cell_type": "code",
   "execution_count": 4,
   "metadata": {},
   "outputs": [
    {
     "name": "stdout",
     "output_type": "stream",
     "text": [
      "root\n",
      " |-- item: string (nullable = true)\n",
      " |-- user: string (nullable = true)\n",
      " |-- rating: string (nullable = true)\n",
      " |-- timestamp: integer (nullable = true)\n",
      "\n",
      "+----------+--------------+------+----------+\n",
      "|      item|          user|rating| timestamp|\n",
      "+----------+--------------+------+----------+\n",
      "|B001GXRQW0| APV13CM0919JD|     1|1229644800|\n",
      "|B001GXRQW0|A3G8U1G1V082SN|     5|1229472000|\n",
      "|B001GXRQW0| A11T2Q0EVTUWP|     5|1229472000|\n",
      "|B001GXRQW0| A9YKGBH3SV22C|     5|1229472000|\n",
      "|B001GXRQW0|A34WZIHVF3OKOL|     1|1229472000|\n",
      "+----------+--------------+------+----------+\n",
      "only showing top 5 rows\n",
      "\n",
      "+----------+--------------+------+----------+---------+---------+\n",
      "|      item|          user|rating| timestamp|itemIndex|userIndex|\n",
      "+----------+--------------+------+----------+---------+---------+\n",
      "|B001GXRQW0| APV13CM0919JD|     1|1229644800|     39.0| 120184.0|\n",
      "|B001GXRQW0|A3G8U1G1V082SN|     5|1229472000|     39.0|  87652.0|\n",
      "|B001GXRQW0| A11T2Q0EVTUWP|     5|1229472000|     39.0|  13165.0|\n",
      "|B001GXRQW0| A9YKGBH3SV22C|     5|1229472000|     39.0| 106567.0|\n",
      "|B001GXRQW0|A34WZIHVF3OKOL|     1|1229472000|     39.0|  77751.0|\n",
      "+----------+--------------+------+----------+---------+---------+\n",
      "only showing top 5 rows\n",
      "\n"
     ]
    }
   ],
   "source": [
    "#define schema\n",
    "schema = StructType([\n",
    "    StructField(\"item\", StringType(), True),\n",
    "    StructField(\"user\", StringType(), True),\n",
    "    StructField(\"rating\", StringType(), True),\n",
    "    StructField(\"timestamp\", IntegerType(), True)])\n",
    "#read the file as a dataframe\n",
    "df = spark.read.csv(\"Gift_Cards.csv\",header=False,schema=schema)\n",
    "#print the schema\n",
    "df.printSchema()\n",
    "#show the dataframe header\n",
    "#df.show(n=5)\n",
    "#number of rows\n",
    "df.count()\n",
    "#convert rating colum from string to integer\n",
    "df = df.withColumn(\"rating\", df[\"rating\"].cast(IntegerType()))\n",
    "df.show(n=5)\n",
    "#provide index values for item and user to convert them into integers\n",
    "stringIndexer = StringIndexer(inputCols=[\"item\",\"user\"], outputCols=[\"itemIndex\",\"userIndex\"])\n",
    "model = stringIndexer.fit(df)\n",
    "df_indexed = model.transform(df)\n",
    "df_indexed.show(n=5)"
   ]
  },
  {
   "cell_type": "code",
   "execution_count": 5,
   "metadata": {},
   "outputs": [],
   "source": [
    "#split the data into training and testing set\n",
    "(training, test) = df_indexed.randomSplit([0.8, 0.2])\n",
    "#training the model\n",
    "#define the model parameters\n",
    "als = ALS(maxIter=5, \n",
    "          implicitPrefs=False,\n",
    "          userCol=\"userIndex\", \n",
    "          itemCol=\"itemIndex\", \n",
    "          ratingCol=\"rating\",\n",
    "          coldStartStrategy=\"drop\")\n",
    "#train the model\n",
    "model = als.fit(training)"
   ]
  },
  {
   "cell_type": "code",
   "execution_count": 6,
   "metadata": {},
   "outputs": [
    {
     "name": "stdout",
     "output_type": "stream",
     "text": [
      "+----------+--------------+------+----------+---------+---------+-----------+\n",
      "|      item|          user|rating| timestamp|itemIndex|userIndex| prediction|\n",
      "+----------+--------------+------+----------+---------+---------+-----------+\n",
      "|B00MV9O08G| A8E9XARLHNQRB|     5|1461196800|    148.0|   9852.0|  1.8560327|\n",
      "|B00MV9O08G|A1I947AYYVP521|     5|1454716800|    148.0|   4477.0|-0.34030437|\n",
      "|B00MV9O08G| ABKWU9EIM7C9B|     5|1466035200|    148.0|  10053.0|-0.14910448|\n",
      "|B00MV9O08G|A269V5L0P4YLA6|     5|1468627200|    148.0|    493.0| -3.1651788|\n",
      "|B00MV9O08G|A3JVYMD4HETANN|     5|1485734400|    148.0|    142.0| -4.6776433|\n",
      "|B00MV9O08G|A2OSD7R4SAF15Y|     5|1508457600|    148.0|   1028.0|   1.032892|\n",
      "|B00MV9O08G|A34CF62DEN31Q9|     5|1478304000|    148.0|    324.0|  0.9895096|\n",
      "|B00MV9O08G|A241GI5D9EVJI6|     5|1482278400|    148.0|    482.0|  1.0802039|\n",
      "|B00MV9O08G| A6VLDZ3EA1YW0|     5|1474329600|    148.0|   2981.0|  1.6228987|\n",
      "|B00MV9O08G| AA47T2SDZBR8A|     5|1487808000|    148.0|   9960.0|   2.391209|\n",
      "|B00MV9O08G|A2X2IWPNDV876S|     5|1498003200|    148.0|   7544.0|  3.6992452|\n",
      "|B00MV9O08G|A17J4SKO98SION|     4|1481673600|    148.0|   1563.0| 0.52786237|\n",
      "|B00MV9O08G|A1TB5EJX699XGF|     5|1483401600|    148.0|   5141.0| -1.2953846|\n",
      "|B00MV9O08G| AWCDAYL90DWNL|     4|1449878400|    148.0|   3348.0| -4.0435944|\n",
      "|B00MV9O08G| A9T9SO0VP3QA0|     1|1480464000|    148.0|     89.0|  -4.833653|\n",
      "|B00BT1XEB6|A3SK26VZ891TKS|     5|1464652800|    463.0|   9386.0|-0.63451433|\n",
      "|B006PJHPKI|A1WCW1LRHXTD1E|     5|1515715200|    392.0|   5327.0|   7.799501|\n",
      "|B006PJHPKI|A3U6VCEGGV7O19|     5|1517443200|    392.0|   1256.0|  1.8590848|\n",
      "|B006PJHPKI|A1J2YIPCE9PHCQ|     5|1487808000|    392.0|   1728.0|  6.5819674|\n",
      "|B00F56OENS|A2M494YU7Z9ZVY|     5|1447804800|    623.0|   6887.0| -1.3493232|\n",
      "+----------+--------------+------+----------+---------+---------+-----------+\n",
      "only showing top 20 rows\n",
      "\n"
     ]
    }
   ],
   "source": [
    "# predict using the testing datatset\n",
    "predictions = model.transform(test)\n",
    "predictions.show()"
   ]
  },
  {
   "cell_type": "code",
   "execution_count": 8,
   "metadata": {},
   "outputs": [
    {
     "name": "stdout",
     "output_type": "stream",
     "text": [
      "+---------+---------+------+\n",
      "|userIndex|itemIndex|rating|\n",
      "+---------+---------+------+\n",
      "|9386.0   |463.0    |5     |\n",
      "|9386.0   |53.0     |4     |\n",
      "+---------+---------+------+\n",
      "\n"
     ]
    }
   ],
   "source": [
    "def topLikes(dataframe,userIndex,limit):\n",
    " df = dataframe.filter(dataframe.userIndex==userIndex)\\\n",
    " .sort(dataframe.rating.desc())\\\n",
    " .select(dataframe.userIndex,dataframe.itemIndex,dataframe.rating)\\\n",
    " .limit(limit)\n",
    " return df\n",
    "# display top liked items for a user\n",
    "topLikes(df_indexed,9386,10).show(truncate=False)"
   ]
  },
  {
   "cell_type": "code",
   "execution_count": 13,
   "metadata": {},
   "outputs": [
    {
     "data": {
      "text/plain": [
       "[Row(itemIndex=[1208, 1016, 1417], rating=[8.179315567016602, 7.899316310882568, 7.583199977874756])]"
      ]
     },
     "execution_count": 13,
     "metadata": {},
     "output_type": "execute_result"
    }
   ],
   "source": [
    "def recommendedItems(userIndex,limit):\n",
    "    test =  model.recommendForAllUsers(3)\\\n",
    "        .filter(col('userIndex')==userIndex)\\\n",
    "        .select([\"recommendations.itemIndex\",\"recommendations.rating\"])\\\n",
    "        .collect()\n",
    "    return test\n",
    "# display top 10 recommended artists for user 2062243\n",
    "recommendedItems(9386,10)"
   ]
  }
 ],
 "metadata": {
  "kernelspec": {
   "display_name": "Python 3",
   "language": "python",
   "name": "python3"
  },
  "language_info": {
   "codemirror_mode": {
    "name": "ipython",
    "version": 3
   },
   "file_extension": ".py",
   "mimetype": "text/x-python",
   "name": "python",
   "nbconvert_exporter": "python",
   "pygments_lexer": "ipython3",
   "version": "3.7.6"
  }
 },
 "nbformat": 4,
 "nbformat_minor": 4
}
